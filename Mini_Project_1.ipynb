{
 "cells": [
  {
   "cell_type": "code",
   "execution_count": 1,
   "id": "6f7065ab",
   "metadata": {},
   "outputs": [],
   "source": [
    "# Importing the  Major Libraries \n",
    "\n",
    "import pandas as pd\n",
    "import numpy as np\n",
    "import seaborn as sns\n",
    "import matplotlib.pyplot as plt \n",
    "import warnings\n",
    "warnings.filterwarnings('ignore')"
   ]
  },
  {
   "cell_type": "markdown",
   "id": "31ac076c",
   "metadata": {},
   "source": [
    "# Loading the DataSet(BigBasket Products)"
   ]
  },
  {
   "cell_type": "code",
   "execution_count": 2,
   "id": "f7628ef8",
   "metadata": {},
   "outputs": [],
   "source": [
    "df = pd.read_csv(\"C:/Users/DELL/Downloads/BigBasket Products.csv\")"
   ]
  },
  {
   "cell_type": "code",
   "execution_count": 3,
   "id": "4f1727a3",
   "metadata": {},
   "outputs": [
    {
     "data": {
      "text/html": [
       "<div>\n",
       "<style scoped>\n",
       "    .dataframe tbody tr th:only-of-type {\n",
       "        vertical-align: middle;\n",
       "    }\n",
       "\n",
       "    .dataframe tbody tr th {\n",
       "        vertical-align: top;\n",
       "    }\n",
       "\n",
       "    .dataframe thead th {\n",
       "        text-align: right;\n",
       "    }\n",
       "</style>\n",
       "<table border=\"1\" class=\"dataframe\">\n",
       "  <thead>\n",
       "    <tr style=\"text-align: right;\">\n",
       "      <th></th>\n",
       "      <th>index</th>\n",
       "      <th>product</th>\n",
       "      <th>category</th>\n",
       "      <th>sub_category</th>\n",
       "      <th>brand</th>\n",
       "      <th>sale_price</th>\n",
       "      <th>market_price</th>\n",
       "      <th>type</th>\n",
       "      <th>rating</th>\n",
       "      <th>description</th>\n",
       "    </tr>\n",
       "  </thead>\n",
       "  <tbody>\n",
       "    <tr>\n",
       "      <th>0</th>\n",
       "      <td>1</td>\n",
       "      <td>Garlic Oil - Vegetarian Capsule 500 mg</td>\n",
       "      <td>Beauty &amp; Hygiene</td>\n",
       "      <td>Hair Care</td>\n",
       "      <td>Sri Sri Ayurveda</td>\n",
       "      <td>220.00</td>\n",
       "      <td>220.0</td>\n",
       "      <td>Hair Oil &amp; Serum</td>\n",
       "      <td>4.1</td>\n",
       "      <td>This Product contains Garlic Oil that is known...</td>\n",
       "    </tr>\n",
       "    <tr>\n",
       "      <th>1</th>\n",
       "      <td>2</td>\n",
       "      <td>Water Bottle - Orange</td>\n",
       "      <td>Kitchen, Garden &amp; Pets</td>\n",
       "      <td>Storage &amp; Accessories</td>\n",
       "      <td>Mastercook</td>\n",
       "      <td>180.00</td>\n",
       "      <td>180.0</td>\n",
       "      <td>Water &amp; Fridge Bottles</td>\n",
       "      <td>2.3</td>\n",
       "      <td>Each product is microwave safe (without lid), ...</td>\n",
       "    </tr>\n",
       "    <tr>\n",
       "      <th>2</th>\n",
       "      <td>3</td>\n",
       "      <td>Brass Angle Deep - Plain, No.2</td>\n",
       "      <td>Cleaning &amp; Household</td>\n",
       "      <td>Pooja Needs</td>\n",
       "      <td>Trm</td>\n",
       "      <td>119.00</td>\n",
       "      <td>250.0</td>\n",
       "      <td>Lamp &amp; Lamp Oil</td>\n",
       "      <td>3.4</td>\n",
       "      <td>A perfect gift for all occasions, be it your m...</td>\n",
       "    </tr>\n",
       "    <tr>\n",
       "      <th>3</th>\n",
       "      <td>4</td>\n",
       "      <td>Cereal Flip Lid Container/Storage Jar - Assort...</td>\n",
       "      <td>Cleaning &amp; Household</td>\n",
       "      <td>Bins &amp; Bathroom Ware</td>\n",
       "      <td>Nakoda</td>\n",
       "      <td>149.00</td>\n",
       "      <td>176.0</td>\n",
       "      <td>Laundry, Storage Baskets</td>\n",
       "      <td>3.7</td>\n",
       "      <td>Multipurpose container with an attractive desi...</td>\n",
       "    </tr>\n",
       "    <tr>\n",
       "      <th>4</th>\n",
       "      <td>5</td>\n",
       "      <td>Creme Soft Soap - For Hands &amp; Body</td>\n",
       "      <td>Beauty &amp; Hygiene</td>\n",
       "      <td>Bath &amp; Hand Wash</td>\n",
       "      <td>Nivea</td>\n",
       "      <td>162.00</td>\n",
       "      <td>162.0</td>\n",
       "      <td>Bathing Bars &amp; Soaps</td>\n",
       "      <td>4.4</td>\n",
       "      <td>Nivea Creme Soft Soap gives your skin the best...</td>\n",
       "    </tr>\n",
       "    <tr>\n",
       "      <th>...</th>\n",
       "      <td>...</td>\n",
       "      <td>...</td>\n",
       "      <td>...</td>\n",
       "      <td>...</td>\n",
       "      <td>...</td>\n",
       "      <td>...</td>\n",
       "      <td>...</td>\n",
       "      <td>...</td>\n",
       "      <td>...</td>\n",
       "      <td>...</td>\n",
       "    </tr>\n",
       "    <tr>\n",
       "      <th>27550</th>\n",
       "      <td>27551</td>\n",
       "      <td>Wottagirl! Perfume Spray - Heaven, Classic</td>\n",
       "      <td>Beauty &amp; Hygiene</td>\n",
       "      <td>Fragrances &amp; Deos</td>\n",
       "      <td>Layerr</td>\n",
       "      <td>199.20</td>\n",
       "      <td>249.0</td>\n",
       "      <td>Perfume</td>\n",
       "      <td>3.9</td>\n",
       "      <td>Layerr brings you Wottagirl Classic fragrant b...</td>\n",
       "    </tr>\n",
       "    <tr>\n",
       "      <th>27551</th>\n",
       "      <td>27552</td>\n",
       "      <td>Rosemary</td>\n",
       "      <td>Gourmet &amp; World Food</td>\n",
       "      <td>Cooking &amp; Baking Needs</td>\n",
       "      <td>Puramate</td>\n",
       "      <td>67.50</td>\n",
       "      <td>75.0</td>\n",
       "      <td>Herbs, Seasonings &amp; Rubs</td>\n",
       "      <td>4.0</td>\n",
       "      <td>Puramate rosemary is enough to transform a dis...</td>\n",
       "    </tr>\n",
       "    <tr>\n",
       "      <th>27552</th>\n",
       "      <td>27553</td>\n",
       "      <td>Peri-Peri Sweet Potato Chips</td>\n",
       "      <td>Gourmet &amp; World Food</td>\n",
       "      <td>Snacks, Dry Fruits, Nuts</td>\n",
       "      <td>FabBox</td>\n",
       "      <td>200.00</td>\n",
       "      <td>200.0</td>\n",
       "      <td>Nachos &amp; Chips</td>\n",
       "      <td>3.8</td>\n",
       "      <td>We have taken the richness of Sweet Potatoes (...</td>\n",
       "    </tr>\n",
       "    <tr>\n",
       "      <th>27553</th>\n",
       "      <td>27554</td>\n",
       "      <td>Green Tea - Pure Original</td>\n",
       "      <td>Beverages</td>\n",
       "      <td>Tea</td>\n",
       "      <td>Tetley</td>\n",
       "      <td>396.00</td>\n",
       "      <td>495.0</td>\n",
       "      <td>Tea Bags</td>\n",
       "      <td>4.2</td>\n",
       "      <td>Tetley Green Tea with its refreshing pure, ori...</td>\n",
       "    </tr>\n",
       "    <tr>\n",
       "      <th>27554</th>\n",
       "      <td>27555</td>\n",
       "      <td>United Dreams Go Far Deodorant</td>\n",
       "      <td>Beauty &amp; Hygiene</td>\n",
       "      <td>Men's Grooming</td>\n",
       "      <td>United Colors Of Benetton</td>\n",
       "      <td>214.53</td>\n",
       "      <td>390.0</td>\n",
       "      <td>Men's Deodorants</td>\n",
       "      <td>4.5</td>\n",
       "      <td>The new mens fragrance from the United Dreams ...</td>\n",
       "    </tr>\n",
       "  </tbody>\n",
       "</table>\n",
       "<p>27555 rows × 10 columns</p>\n",
       "</div>"
      ],
      "text/plain": [
       "       index                                            product  \\\n",
       "0          1             Garlic Oil - Vegetarian Capsule 500 mg   \n",
       "1          2                              Water Bottle - Orange   \n",
       "2          3                     Brass Angle Deep - Plain, No.2   \n",
       "3          4  Cereal Flip Lid Container/Storage Jar - Assort...   \n",
       "4          5                 Creme Soft Soap - For Hands & Body   \n",
       "...      ...                                                ...   \n",
       "27550  27551         Wottagirl! Perfume Spray - Heaven, Classic   \n",
       "27551  27552                                           Rosemary   \n",
       "27552  27553                       Peri-Peri Sweet Potato Chips   \n",
       "27553  27554                          Green Tea - Pure Original   \n",
       "27554  27555                     United Dreams Go Far Deodorant   \n",
       "\n",
       "                     category              sub_category  \\\n",
       "0            Beauty & Hygiene                 Hair Care   \n",
       "1      Kitchen, Garden & Pets     Storage & Accessories   \n",
       "2        Cleaning & Household               Pooja Needs   \n",
       "3        Cleaning & Household      Bins & Bathroom Ware   \n",
       "4            Beauty & Hygiene          Bath & Hand Wash   \n",
       "...                       ...                       ...   \n",
       "27550        Beauty & Hygiene         Fragrances & Deos   \n",
       "27551    Gourmet & World Food    Cooking & Baking Needs   \n",
       "27552    Gourmet & World Food  Snacks, Dry Fruits, Nuts   \n",
       "27553               Beverages                       Tea   \n",
       "27554        Beauty & Hygiene            Men's Grooming   \n",
       "\n",
       "                            brand  sale_price  market_price  \\\n",
       "0               Sri Sri Ayurveda       220.00         220.0   \n",
       "1                      Mastercook      180.00         180.0   \n",
       "2                             Trm      119.00         250.0   \n",
       "3                          Nakoda      149.00         176.0   \n",
       "4                           Nivea      162.00         162.0   \n",
       "...                           ...         ...           ...   \n",
       "27550                      Layerr      199.20         249.0   \n",
       "27551                    Puramate       67.50          75.0   \n",
       "27552                      FabBox      200.00         200.0   \n",
       "27553                      Tetley      396.00         495.0   \n",
       "27554  United Colors Of Benetton       214.53         390.0   \n",
       "\n",
       "                           type  rating  \\\n",
       "0              Hair Oil & Serum     4.1   \n",
       "1        Water & Fridge Bottles     2.3   \n",
       "2               Lamp & Lamp Oil     3.4   \n",
       "3      Laundry, Storage Baskets     3.7   \n",
       "4          Bathing Bars & Soaps     4.4   \n",
       "...                         ...     ...   \n",
       "27550                   Perfume     3.9   \n",
       "27551  Herbs, Seasonings & Rubs     4.0   \n",
       "27552            Nachos & Chips     3.8   \n",
       "27553                  Tea Bags     4.2   \n",
       "27554          Men's Deodorants     4.5   \n",
       "\n",
       "                                             description  \n",
       "0      This Product contains Garlic Oil that is known...  \n",
       "1      Each product is microwave safe (without lid), ...  \n",
       "2      A perfect gift for all occasions, be it your m...  \n",
       "3      Multipurpose container with an attractive desi...  \n",
       "4      Nivea Creme Soft Soap gives your skin the best...  \n",
       "...                                                  ...  \n",
       "27550  Layerr brings you Wottagirl Classic fragrant b...  \n",
       "27551  Puramate rosemary is enough to transform a dis...  \n",
       "27552  We have taken the richness of Sweet Potatoes (...  \n",
       "27553  Tetley Green Tea with its refreshing pure, ori...  \n",
       "27554  The new mens fragrance from the United Dreams ...  \n",
       "\n",
       "[27555 rows x 10 columns]"
      ]
     },
     "execution_count": 3,
     "metadata": {},
     "output_type": "execute_result"
    }
   ],
   "source": [
    "df"
   ]
  },
  {
   "cell_type": "markdown",
   "id": "3def5890",
   "metadata": {},
   "source": [
    "# Data Exploration"
   ]
  },
  {
   "cell_type": "markdown",
   "id": "353d2569",
   "metadata": {},
   "source": [
    "## Use Drop function for removing the id column."
   ]
  },
  {
   "cell_type": "code",
   "execution_count": 4,
   "id": "9ee2f2e6",
   "metadata": {},
   "outputs": [],
   "source": [
    "# Removing the id column as it unnecessary\n",
    "\n",
    "df.drop('index',axis=1,inplace=True)"
   ]
  },
  {
   "cell_type": "markdown",
   "id": "18d687be",
   "metadata": {},
   "source": [
    "## Use Head function to look for first 12 rows."
   ]
  },
  {
   "cell_type": "code",
   "execution_count": 5,
   "id": "db8d4d6b",
   "metadata": {},
   "outputs": [
    {
     "data": {
      "text/html": [
       "<div>\n",
       "<style scoped>\n",
       "    .dataframe tbody tr th:only-of-type {\n",
       "        vertical-align: middle;\n",
       "    }\n",
       "\n",
       "    .dataframe tbody tr th {\n",
       "        vertical-align: top;\n",
       "    }\n",
       "\n",
       "    .dataframe thead th {\n",
       "        text-align: right;\n",
       "    }\n",
       "</style>\n",
       "<table border=\"1\" class=\"dataframe\">\n",
       "  <thead>\n",
       "    <tr style=\"text-align: right;\">\n",
       "      <th></th>\n",
       "      <th>product</th>\n",
       "      <th>category</th>\n",
       "      <th>sub_category</th>\n",
       "      <th>brand</th>\n",
       "      <th>sale_price</th>\n",
       "      <th>market_price</th>\n",
       "      <th>type</th>\n",
       "      <th>rating</th>\n",
       "      <th>description</th>\n",
       "    </tr>\n",
       "  </thead>\n",
       "  <tbody>\n",
       "    <tr>\n",
       "      <th>0</th>\n",
       "      <td>Garlic Oil - Vegetarian Capsule 500 mg</td>\n",
       "      <td>Beauty &amp; Hygiene</td>\n",
       "      <td>Hair Care</td>\n",
       "      <td>Sri Sri Ayurveda</td>\n",
       "      <td>220.0</td>\n",
       "      <td>220.0</td>\n",
       "      <td>Hair Oil &amp; Serum</td>\n",
       "      <td>4.1</td>\n",
       "      <td>This Product contains Garlic Oil that is known...</td>\n",
       "    </tr>\n",
       "    <tr>\n",
       "      <th>1</th>\n",
       "      <td>Water Bottle - Orange</td>\n",
       "      <td>Kitchen, Garden &amp; Pets</td>\n",
       "      <td>Storage &amp; Accessories</td>\n",
       "      <td>Mastercook</td>\n",
       "      <td>180.0</td>\n",
       "      <td>180.0</td>\n",
       "      <td>Water &amp; Fridge Bottles</td>\n",
       "      <td>2.3</td>\n",
       "      <td>Each product is microwave safe (without lid), ...</td>\n",
       "    </tr>\n",
       "    <tr>\n",
       "      <th>2</th>\n",
       "      <td>Brass Angle Deep - Plain, No.2</td>\n",
       "      <td>Cleaning &amp; Household</td>\n",
       "      <td>Pooja Needs</td>\n",
       "      <td>Trm</td>\n",
       "      <td>119.0</td>\n",
       "      <td>250.0</td>\n",
       "      <td>Lamp &amp; Lamp Oil</td>\n",
       "      <td>3.4</td>\n",
       "      <td>A perfect gift for all occasions, be it your m...</td>\n",
       "    </tr>\n",
       "    <tr>\n",
       "      <th>3</th>\n",
       "      <td>Cereal Flip Lid Container/Storage Jar - Assort...</td>\n",
       "      <td>Cleaning &amp; Household</td>\n",
       "      <td>Bins &amp; Bathroom Ware</td>\n",
       "      <td>Nakoda</td>\n",
       "      <td>149.0</td>\n",
       "      <td>176.0</td>\n",
       "      <td>Laundry, Storage Baskets</td>\n",
       "      <td>3.7</td>\n",
       "      <td>Multipurpose container with an attractive desi...</td>\n",
       "    </tr>\n",
       "    <tr>\n",
       "      <th>4</th>\n",
       "      <td>Creme Soft Soap - For Hands &amp; Body</td>\n",
       "      <td>Beauty &amp; Hygiene</td>\n",
       "      <td>Bath &amp; Hand Wash</td>\n",
       "      <td>Nivea</td>\n",
       "      <td>162.0</td>\n",
       "      <td>162.0</td>\n",
       "      <td>Bathing Bars &amp; Soaps</td>\n",
       "      <td>4.4</td>\n",
       "      <td>Nivea Creme Soft Soap gives your skin the best...</td>\n",
       "    </tr>\n",
       "    <tr>\n",
       "      <th>5</th>\n",
       "      <td>Germ - Removal Multipurpose Wipes</td>\n",
       "      <td>Cleaning &amp; Household</td>\n",
       "      <td>All Purpose Cleaners</td>\n",
       "      <td>Nature Protect</td>\n",
       "      <td>169.0</td>\n",
       "      <td>199.0</td>\n",
       "      <td>Disinfectant Spray &amp; Cleaners</td>\n",
       "      <td>3.3</td>\n",
       "      <td>Stay protected from contamination with Multipu...</td>\n",
       "    </tr>\n",
       "    <tr>\n",
       "      <th>6</th>\n",
       "      <td>Multani Mati</td>\n",
       "      <td>Beauty &amp; Hygiene</td>\n",
       "      <td>Skin Care</td>\n",
       "      <td>Satinance</td>\n",
       "      <td>58.0</td>\n",
       "      <td>58.0</td>\n",
       "      <td>Face Care</td>\n",
       "      <td>3.6</td>\n",
       "      <td>Satinance multani matti is an excellent skin t...</td>\n",
       "    </tr>\n",
       "    <tr>\n",
       "      <th>7</th>\n",
       "      <td>Hand Sanitizer - 70% Alcohol Base</td>\n",
       "      <td>Beauty &amp; Hygiene</td>\n",
       "      <td>Bath &amp; Hand Wash</td>\n",
       "      <td>Bionova</td>\n",
       "      <td>250.0</td>\n",
       "      <td>250.0</td>\n",
       "      <td>Hand Wash &amp; Sanitizers</td>\n",
       "      <td>4.0</td>\n",
       "      <td>70%Alcohol based is gentle of hand leaves skin...</td>\n",
       "    </tr>\n",
       "    <tr>\n",
       "      <th>8</th>\n",
       "      <td>Biotin &amp; Collagen Volumizing Hair Shampoo + Bi...</td>\n",
       "      <td>Beauty &amp; Hygiene</td>\n",
       "      <td>Hair Care</td>\n",
       "      <td>StBotanica</td>\n",
       "      <td>1098.0</td>\n",
       "      <td>1098.0</td>\n",
       "      <td>Shampoo &amp; Conditioner</td>\n",
       "      <td>3.5</td>\n",
       "      <td>An exclusive blend with Vitamin B7 Biotin, Hyd...</td>\n",
       "    </tr>\n",
       "    <tr>\n",
       "      <th>9</th>\n",
       "      <td>Scrub Pad - Anti- Bacterial, Regular</td>\n",
       "      <td>Cleaning &amp; Household</td>\n",
       "      <td>Mops, Brushes &amp; Scrubs</td>\n",
       "      <td>Scotch brite</td>\n",
       "      <td>20.0</td>\n",
       "      <td>20.0</td>\n",
       "      <td>Utensil Scrub-Pad, Glove</td>\n",
       "      <td>4.3</td>\n",
       "      <td>Scotch Brite Anti- Bacterial Scrub Pad thoroug...</td>\n",
       "    </tr>\n",
       "    <tr>\n",
       "      <th>10</th>\n",
       "      <td>Wheat Grass Powder - Raw</td>\n",
       "      <td>Gourmet &amp; World Food</td>\n",
       "      <td>Cooking &amp; Baking Needs</td>\n",
       "      <td>NUTRASHIL</td>\n",
       "      <td>261.0</td>\n",
       "      <td>290.0</td>\n",
       "      <td>Flours &amp; Pre-Mixes</td>\n",
       "      <td>4.0</td>\n",
       "      <td>Wheatgrass is a superfood potent health food w...</td>\n",
       "    </tr>\n",
       "    <tr>\n",
       "      <th>11</th>\n",
       "      <td>Butter Cookies Gold Collection</td>\n",
       "      <td>Gourmet &amp; World Food</td>\n",
       "      <td>Chocolates &amp; Biscuits</td>\n",
       "      <td>Sapphire</td>\n",
       "      <td>600.0</td>\n",
       "      <td>600.0</td>\n",
       "      <td>Luxury Chocolates, Gifts</td>\n",
       "      <td>2.2</td>\n",
       "      <td>Enjoy a tin full of delicious butter cookies m...</td>\n",
       "    </tr>\n",
       "  </tbody>\n",
       "</table>\n",
       "</div>"
      ],
      "text/plain": [
       "                                              product                category  \\\n",
       "0              Garlic Oil - Vegetarian Capsule 500 mg        Beauty & Hygiene   \n",
       "1                               Water Bottle - Orange  Kitchen, Garden & Pets   \n",
       "2                      Brass Angle Deep - Plain, No.2    Cleaning & Household   \n",
       "3   Cereal Flip Lid Container/Storage Jar - Assort...    Cleaning & Household   \n",
       "4                  Creme Soft Soap - For Hands & Body        Beauty & Hygiene   \n",
       "5                   Germ - Removal Multipurpose Wipes    Cleaning & Household   \n",
       "6                                        Multani Mati        Beauty & Hygiene   \n",
       "7                   Hand Sanitizer - 70% Alcohol Base        Beauty & Hygiene   \n",
       "8   Biotin & Collagen Volumizing Hair Shampoo + Bi...        Beauty & Hygiene   \n",
       "9                Scrub Pad - Anti- Bacterial, Regular    Cleaning & Household   \n",
       "10                           Wheat Grass Powder - Raw    Gourmet & World Food   \n",
       "11                     Butter Cookies Gold Collection    Gourmet & World Food   \n",
       "\n",
       "              sub_category              brand  sale_price  market_price  \\\n",
       "0                Hair Care  Sri Sri Ayurveda        220.0         220.0   \n",
       "1    Storage & Accessories         Mastercook       180.0         180.0   \n",
       "2              Pooja Needs                Trm       119.0         250.0   \n",
       "3     Bins & Bathroom Ware             Nakoda       149.0         176.0   \n",
       "4         Bath & Hand Wash              Nivea       162.0         162.0   \n",
       "5     All Purpose Cleaners     Nature Protect       169.0         199.0   \n",
       "6                Skin Care          Satinance        58.0          58.0   \n",
       "7         Bath & Hand Wash            Bionova       250.0         250.0   \n",
       "8                Hair Care         StBotanica      1098.0        1098.0   \n",
       "9   Mops, Brushes & Scrubs       Scotch brite        20.0          20.0   \n",
       "10  Cooking & Baking Needs          NUTRASHIL       261.0         290.0   \n",
       "11   Chocolates & Biscuits           Sapphire       600.0         600.0   \n",
       "\n",
       "                             type  rating  \\\n",
       "0                Hair Oil & Serum     4.1   \n",
       "1          Water & Fridge Bottles     2.3   \n",
       "2                 Lamp & Lamp Oil     3.4   \n",
       "3        Laundry, Storage Baskets     3.7   \n",
       "4            Bathing Bars & Soaps     4.4   \n",
       "5   Disinfectant Spray & Cleaners     3.3   \n",
       "6                       Face Care     3.6   \n",
       "7          Hand Wash & Sanitizers     4.0   \n",
       "8           Shampoo & Conditioner     3.5   \n",
       "9        Utensil Scrub-Pad, Glove     4.3   \n",
       "10             Flours & Pre-Mixes     4.0   \n",
       "11       Luxury Chocolates, Gifts     2.2   \n",
       "\n",
       "                                          description  \n",
       "0   This Product contains Garlic Oil that is known...  \n",
       "1   Each product is microwave safe (without lid), ...  \n",
       "2   A perfect gift for all occasions, be it your m...  \n",
       "3   Multipurpose container with an attractive desi...  \n",
       "4   Nivea Creme Soft Soap gives your skin the best...  \n",
       "5   Stay protected from contamination with Multipu...  \n",
       "6   Satinance multani matti is an excellent skin t...  \n",
       "7   70%Alcohol based is gentle of hand leaves skin...  \n",
       "8   An exclusive blend with Vitamin B7 Biotin, Hyd...  \n",
       "9   Scotch Brite Anti- Bacterial Scrub Pad thoroug...  \n",
       "10  Wheatgrass is a superfood potent health food w...  \n",
       "11  Enjoy a tin full of delicious butter cookies m...  "
      ]
     },
     "execution_count": 5,
     "metadata": {},
     "output_type": "execute_result"
    }
   ],
   "source": [
    "# Use head function to look for first 12 rows.\n",
    "\n",
    "df.head(12)"
   ]
  },
  {
   "cell_type": "markdown",
   "id": "e9790956",
   "metadata": {},
   "source": [
    "## Get Description of the data."
   ]
  },
  {
   "cell_type": "code",
   "execution_count": 6,
   "id": "ed12e1f9",
   "metadata": {},
   "outputs": [
    {
     "data": {
      "text/html": [
       "<div>\n",
       "<style scoped>\n",
       "    .dataframe tbody tr th:only-of-type {\n",
       "        vertical-align: middle;\n",
       "    }\n",
       "\n",
       "    .dataframe tbody tr th {\n",
       "        vertical-align: top;\n",
       "    }\n",
       "\n",
       "    .dataframe thead th {\n",
       "        text-align: right;\n",
       "    }\n",
       "</style>\n",
       "<table border=\"1\" class=\"dataframe\">\n",
       "  <thead>\n",
       "    <tr style=\"text-align: right;\">\n",
       "      <th></th>\n",
       "      <th>sale_price</th>\n",
       "      <th>market_price</th>\n",
       "      <th>rating</th>\n",
       "    </tr>\n",
       "  </thead>\n",
       "  <tbody>\n",
       "    <tr>\n",
       "      <th>count</th>\n",
       "      <td>27549.000000</td>\n",
       "      <td>27555.000000</td>\n",
       "      <td>18919.000000</td>\n",
       "    </tr>\n",
       "    <tr>\n",
       "      <th>mean</th>\n",
       "      <td>334.648391</td>\n",
       "      <td>382.056664</td>\n",
       "      <td>3.943295</td>\n",
       "    </tr>\n",
       "    <tr>\n",
       "      <th>std</th>\n",
       "      <td>1202.102113</td>\n",
       "      <td>581.730717</td>\n",
       "      <td>0.739217</td>\n",
       "    </tr>\n",
       "    <tr>\n",
       "      <th>min</th>\n",
       "      <td>2.450000</td>\n",
       "      <td>3.000000</td>\n",
       "      <td>1.000000</td>\n",
       "    </tr>\n",
       "    <tr>\n",
       "      <th>25%</th>\n",
       "      <td>95.000000</td>\n",
       "      <td>100.000000</td>\n",
       "      <td>3.700000</td>\n",
       "    </tr>\n",
       "    <tr>\n",
       "      <th>50%</th>\n",
       "      <td>190.320000</td>\n",
       "      <td>220.000000</td>\n",
       "      <td>4.100000</td>\n",
       "    </tr>\n",
       "    <tr>\n",
       "      <th>75%</th>\n",
       "      <td>359.000000</td>\n",
       "      <td>425.000000</td>\n",
       "      <td>4.300000</td>\n",
       "    </tr>\n",
       "    <tr>\n",
       "      <th>max</th>\n",
       "      <td>112475.000000</td>\n",
       "      <td>12500.000000</td>\n",
       "      <td>5.000000</td>\n",
       "    </tr>\n",
       "  </tbody>\n",
       "</table>\n",
       "</div>"
      ],
      "text/plain": [
       "          sale_price  market_price        rating\n",
       "count   27549.000000  27555.000000  18919.000000\n",
       "mean      334.648391    382.056664      3.943295\n",
       "std      1202.102113    581.730717      0.739217\n",
       "min         2.450000      3.000000      1.000000\n",
       "25%        95.000000    100.000000      3.700000\n",
       "50%       190.320000    220.000000      4.100000\n",
       "75%       359.000000    425.000000      4.300000\n",
       "max    112475.000000  12500.000000      5.000000"
      ]
     },
     "execution_count": 6,
     "metadata": {},
     "output_type": "execute_result"
    }
   ],
   "source": [
    "# Get Description of the data.\n",
    "\n",
    "df.describe()"
   ]
  },
  {
   "cell_type": "code",
   "execution_count": 7,
   "id": "a6e78f4f",
   "metadata": {},
   "outputs": [
    {
     "data": {
      "text/html": [
       "<div>\n",
       "<style scoped>\n",
       "    .dataframe tbody tr th:only-of-type {\n",
       "        vertical-align: middle;\n",
       "    }\n",
       "\n",
       "    .dataframe tbody tr th {\n",
       "        vertical-align: top;\n",
       "    }\n",
       "\n",
       "    .dataframe thead th {\n",
       "        text-align: right;\n",
       "    }\n",
       "</style>\n",
       "<table border=\"1\" class=\"dataframe\">\n",
       "  <thead>\n",
       "    <tr style=\"text-align: right;\">\n",
       "      <th></th>\n",
       "      <th>product</th>\n",
       "      <th>category</th>\n",
       "      <th>sub_category</th>\n",
       "      <th>brand</th>\n",
       "      <th>sale_price</th>\n",
       "      <th>market_price</th>\n",
       "      <th>type</th>\n",
       "      <th>rating</th>\n",
       "      <th>description</th>\n",
       "    </tr>\n",
       "  </thead>\n",
       "  <tbody>\n",
       "    <tr>\n",
       "      <th>1249</th>\n",
       "      <td>Beard Kit</td>\n",
       "      <td>Beauty &amp; Hygiene</td>\n",
       "      <td>Men's Grooming</td>\n",
       "      <td>Uncle Tony</td>\n",
       "      <td>112475.0</td>\n",
       "      <td>3300.0</td>\n",
       "      <td>Combos &amp; Gift Sets</td>\n",
       "      <td>NaN</td>\n",
       "      <td>The combination of a beard oil, a beard wash, ...</td>\n",
       "    </tr>\n",
       "  </tbody>\n",
       "</table>\n",
       "</div>"
      ],
      "text/plain": [
       "        product          category    sub_category       brand  sale_price  \\\n",
       "1249  Beard Kit  Beauty & Hygiene  Men's Grooming  Uncle Tony    112475.0   \n",
       "\n",
       "      market_price                type  rating  \\\n",
       "1249        3300.0  Combos & Gift Sets     NaN   \n",
       "\n",
       "                                            description  \n",
       "1249  The combination of a beard oil, a beard wash, ...  "
      ]
     },
     "execution_count": 7,
     "metadata": {},
     "output_type": "execute_result"
    }
   ],
   "source": [
    "df[df.sale_price==df.sale_price.max()]"
   ]
  },
  {
   "cell_type": "code",
   "execution_count": 8,
   "id": "58d3e3b4",
   "metadata": {},
   "outputs": [
    {
     "data": {
      "text/plain": [
       "<Axes: xlabel='sale_price', ylabel='market_price'>"
      ]
     },
     "execution_count": 8,
     "metadata": {},
     "output_type": "execute_result"
    },
    {
     "data": {
      "image/png": "[encoded data removed]",
      "text/plain": [
       "<Figure size 640x480 with 1 Axes>"
      ]
     },
     "metadata": {},
     "output_type": "display_data"
    }
   ],
   "source": [
    "sns.scatterplot(x=df.sale_price,y=df.market_price)"
   ]
  },
  {
   "cell_type": "code",
   "execution_count": 9,
   "id": "9a40473d",
   "metadata": {},
   "outputs": [],
   "source": [
    "df.sale_price=np.where(df.sale_price>20000,df.market_price,df.sale_price)"
   ]
  },
  {
   "cell_type": "code",
   "execution_count": 10,
   "id": "3c4f1a37",
   "metadata": {},
   "outputs": [
    {
     "data": {
      "text/html": [
       "<div>\n",
       "<style scoped>\n",
       "    .dataframe tbody tr th:only-of-type {\n",
       "        vertical-align: middle;\n",
       "    }\n",
       "\n",
       "    .dataframe tbody tr th {\n",
       "        vertical-align: top;\n",
       "    }\n",
       "\n",
       "    .dataframe thead th {\n",
       "        text-align: right;\n",
       "    }\n",
       "</style>\n",
       "<table border=\"1\" class=\"dataframe\">\n",
       "  <thead>\n",
       "    <tr style=\"text-align: right;\">\n",
       "      <th></th>\n",
       "      <th>product</th>\n",
       "      <th>category</th>\n",
       "      <th>sub_category</th>\n",
       "      <th>brand</th>\n",
       "      <th>sale_price</th>\n",
       "      <th>market_price</th>\n",
       "      <th>type</th>\n",
       "      <th>rating</th>\n",
       "      <th>description</th>\n",
       "    </tr>\n",
       "  </thead>\n",
       "  <tbody>\n",
       "    <tr>\n",
       "      <th>1249</th>\n",
       "      <td>Beard Kit</td>\n",
       "      <td>Beauty &amp; Hygiene</td>\n",
       "      <td>Men's Grooming</td>\n",
       "      <td>Uncle Tony</td>\n",
       "      <td>3300.0</td>\n",
       "      <td>3300.0</td>\n",
       "      <td>Combos &amp; Gift Sets</td>\n",
       "      <td>NaN</td>\n",
       "      <td>The combination of a beard oil, a beard wash, ...</td>\n",
       "    </tr>\n",
       "  </tbody>\n",
       "</table>\n",
       "</div>"
      ],
      "text/plain": [
       "        product          category    sub_category       brand  sale_price  \\\n",
       "1249  Beard Kit  Beauty & Hygiene  Men's Grooming  Uncle Tony      3300.0   \n",
       "\n",
       "      market_price                type  rating  \\\n",
       "1249        3300.0  Combos & Gift Sets     NaN   \n",
       "\n",
       "                                            description  \n",
       "1249  The combination of a beard oil, a beard wash, ...  "
      ]
     },
     "execution_count": 10,
     "metadata": {},
     "output_type": "execute_result"
    }
   ],
   "source": [
    "# Checking with the changes have been made in the dataset with respect to earlier command executed accordingly or not.\n",
    "\n",
    "df.iloc[1249:1250]"
   ]
  },
  {
   "cell_type": "code",
   "execution_count": 11,
   "id": "903c4292",
   "metadata": {},
   "outputs": [
    {
     "data": {
      "text/plain": [
       "<Axes: xlabel='market_price', ylabel='sale_price'>"
      ]
     },
     "execution_count": 11,
     "metadata": {},
     "output_type": "execute_result"
    },
    {
     "data": {
      "image/png": "[encoded data removed]",
      "text/plain": [
       "<Figure size 640x480 with 1 Axes>"
      ]
     },
     "metadata": {},
     "output_type": "display_data"
    }
   ],
   "source": [
    "sns.scatterplot(x=df.market_price,y=df.sale_price)"
   ]
  },
  {
   "cell_type": "markdown",
   "id": "6211b311",
   "metadata": {},
   "source": [
    "## Fetching Information about the Dataset."
   ]
  },
  {
   "cell_type": "code",
   "execution_count": 12,
   "id": "5b8ff717",
   "metadata": {},
   "outputs": [
    {
     "name": "stdout",
     "output_type": "stream",
     "text": [
      "<class 'pandas.core.frame.DataFrame'>\n",
      "RangeIndex: 27555 entries, 0 to 27554\n",
      "Data columns (total 9 columns):\n",
      " #   Column        Non-Null Count  Dtype  \n",
      "---  ------        --------------  -----  \n",
      " 0   product       27554 non-null  object \n",
      " 1   category      27555 non-null  object \n",
      " 2   sub_category  27555 non-null  object \n",
      " 3   brand         27554 non-null  object \n",
      " 4   sale_price    27549 non-null  float64\n",
      " 5   market_price  27555 non-null  float64\n",
      " 6   type          27555 non-null  object \n",
      " 7   rating        18919 non-null  float64\n",
      " 8   description   27440 non-null  object \n",
      "dtypes: float64(3), object(6)\n",
      "memory usage: 1.9+ MB\n"
     ]
    }
   ],
   "source": [
    "# Getting Information about regarding the Dataset.\n",
    "\n",
    "df.info()"
   ]
  },
  {
   "cell_type": "markdown",
   "id": "f146d89a",
   "metadata": {},
   "source": [
    "## Find out Top &amp; Least sold products."
   ]
  },
  {
   "cell_type": "code",
   "execution_count": 13,
   "id": "7e90f699",
   "metadata": {},
   "outputs": [
    {
     "data": {
      "text/plain": [
       "product\n",
       "Turmeric Powder/Arisina Pudi                                     26\n",
       "Extra Virgin Olive Oil                                           15\n",
       "Cow Ghee/Tuppa                                                   14\n",
       "Soft Drink                                                       12\n",
       "Colorsilk Hair Colour With Keratin                               12\n",
       "                                                                 ..\n",
       "Pepper & Herb Salami Chicken                                      1\n",
       "Nutmeg Powder                                                     1\n",
       "Disney Mickey Mouse Plastic Kids Sipper Bottle - Coolest Dude     1\n",
       "Chocolates-Roasted Peanut Chocolate                               1\n",
       "Green Tea - Pure Original                                         1\n",
       "Name: count, Length: 23540, dtype: int64"
      ]
     },
     "execution_count": 13,
     "metadata": {},
     "output_type": "execute_result"
    }
   ],
   "source": [
    "# Find out Top & least sold products.\n",
    "\n",
    "df['product'].value_counts()"
   ]
  },
  {
   "cell_type": "code",
   "execution_count": 14,
   "id": "4958f0c1",
   "metadata": {
    "scrolled": false
   },
   "outputs": [
    {
     "data": {
      "text/html": [
       "<div>\n",
       "<style scoped>\n",
       "    .dataframe tbody tr th:only-of-type {\n",
       "        vertical-align: middle;\n",
       "    }\n",
       "\n",
       "    .dataframe tbody tr th {\n",
       "        vertical-align: top;\n",
       "    }\n",
       "\n",
       "    .dataframe thead th {\n",
       "        text-align: right;\n",
       "    }\n",
       "</style>\n",
       "<table border=\"1\" class=\"dataframe\">\n",
       "  <thead>\n",
       "    <tr style=\"text-align: right;\">\n",
       "      <th></th>\n",
       "      <th>product</th>\n",
       "      <th>category</th>\n",
       "      <th>sub_category</th>\n",
       "      <th>brand</th>\n",
       "      <th>sale_price</th>\n",
       "      <th>market_price</th>\n",
       "      <th>type</th>\n",
       "      <th>rating</th>\n",
       "      <th>description</th>\n",
       "    </tr>\n",
       "  </thead>\n",
       "  <tbody>\n",
       "    <tr>\n",
       "      <th>0</th>\n",
       "      <td>Garlic Oil - Vegetarian Capsule 500 mg</td>\n",
       "      <td>Beauty &amp; Hygiene</td>\n",
       "      <td>Hair Care</td>\n",
       "      <td>Sri Sri Ayurveda</td>\n",
       "      <td>220.00</td>\n",
       "      <td>220.0</td>\n",
       "      <td>Hair Oil &amp; Serum</td>\n",
       "      <td>4.1</td>\n",
       "      <td>This Product contains Garlic Oil that is known...</td>\n",
       "    </tr>\n",
       "    <tr>\n",
       "      <th>1</th>\n",
       "      <td>Water Bottle - Orange</td>\n",
       "      <td>Kitchen, Garden &amp; Pets</td>\n",
       "      <td>Storage &amp; Accessories</td>\n",
       "      <td>Mastercook</td>\n",
       "      <td>180.00</td>\n",
       "      <td>180.0</td>\n",
       "      <td>Water &amp; Fridge Bottles</td>\n",
       "      <td>2.3</td>\n",
       "      <td>Each product is microwave safe (without lid), ...</td>\n",
       "    </tr>\n",
       "    <tr>\n",
       "      <th>2</th>\n",
       "      <td>Brass Angle Deep - Plain, No.2</td>\n",
       "      <td>Cleaning &amp; Household</td>\n",
       "      <td>Pooja Needs</td>\n",
       "      <td>Trm</td>\n",
       "      <td>119.00</td>\n",
       "      <td>250.0</td>\n",
       "      <td>Lamp &amp; Lamp Oil</td>\n",
       "      <td>3.4</td>\n",
       "      <td>A perfect gift for all occasions, be it your m...</td>\n",
       "    </tr>\n",
       "    <tr>\n",
       "      <th>3</th>\n",
       "      <td>Cereal Flip Lid Container/Storage Jar - Assort...</td>\n",
       "      <td>Cleaning &amp; Household</td>\n",
       "      <td>Bins &amp; Bathroom Ware</td>\n",
       "      <td>Nakoda</td>\n",
       "      <td>149.00</td>\n",
       "      <td>176.0</td>\n",
       "      <td>Laundry, Storage Baskets</td>\n",
       "      <td>3.7</td>\n",
       "      <td>Multipurpose container with an attractive desi...</td>\n",
       "    </tr>\n",
       "    <tr>\n",
       "      <th>4</th>\n",
       "      <td>Creme Soft Soap - For Hands &amp; Body</td>\n",
       "      <td>Beauty &amp; Hygiene</td>\n",
       "      <td>Bath &amp; Hand Wash</td>\n",
       "      <td>Nivea</td>\n",
       "      <td>162.00</td>\n",
       "      <td>162.0</td>\n",
       "      <td>Bathing Bars &amp; Soaps</td>\n",
       "      <td>4.4</td>\n",
       "      <td>Nivea Creme Soft Soap gives your skin the best...</td>\n",
       "    </tr>\n",
       "    <tr>\n",
       "      <th>...</th>\n",
       "      <td>...</td>\n",
       "      <td>...</td>\n",
       "      <td>...</td>\n",
       "      <td>...</td>\n",
       "      <td>...</td>\n",
       "      <td>...</td>\n",
       "      <td>...</td>\n",
       "      <td>...</td>\n",
       "      <td>...</td>\n",
       "    </tr>\n",
       "    <tr>\n",
       "      <th>27550</th>\n",
       "      <td>Wottagirl! Perfume Spray - Heaven, Classic</td>\n",
       "      <td>Beauty &amp; Hygiene</td>\n",
       "      <td>Fragrances &amp; Deos</td>\n",
       "      <td>Layerr</td>\n",
       "      <td>199.20</td>\n",
       "      <td>249.0</td>\n",
       "      <td>Perfume</td>\n",
       "      <td>3.9</td>\n",
       "      <td>Layerr brings you Wottagirl Classic fragrant b...</td>\n",
       "    </tr>\n",
       "    <tr>\n",
       "      <th>27551</th>\n",
       "      <td>Rosemary</td>\n",
       "      <td>Gourmet &amp; World Food</td>\n",
       "      <td>Cooking &amp; Baking Needs</td>\n",
       "      <td>Puramate</td>\n",
       "      <td>67.50</td>\n",
       "      <td>75.0</td>\n",
       "      <td>Herbs, Seasonings &amp; Rubs</td>\n",
       "      <td>4.0</td>\n",
       "      <td>Puramate rosemary is enough to transform a dis...</td>\n",
       "    </tr>\n",
       "    <tr>\n",
       "      <th>27552</th>\n",
       "      <td>Peri-Peri Sweet Potato Chips</td>\n",
       "      <td>Gourmet &amp; World Food</td>\n",
       "      <td>Snacks, Dry Fruits, Nuts</td>\n",
       "      <td>FabBox</td>\n",
       "      <td>200.00</td>\n",
       "      <td>200.0</td>\n",
       "      <td>Nachos &amp; Chips</td>\n",
       "      <td>3.8</td>\n",
       "      <td>We have taken the richness of Sweet Potatoes (...</td>\n",
       "    </tr>\n",
       "    <tr>\n",
       "      <th>27553</th>\n",
       "      <td>Green Tea - Pure Original</td>\n",
       "      <td>Beverages</td>\n",
       "      <td>Tea</td>\n",
       "      <td>Tetley</td>\n",
       "      <td>396.00</td>\n",
       "      <td>495.0</td>\n",
       "      <td>Tea Bags</td>\n",
       "      <td>4.2</td>\n",
       "      <td>Tetley Green Tea with its refreshing pure, ori...</td>\n",
       "    </tr>\n",
       "    <tr>\n",
       "      <th>27554</th>\n",
       "      <td>United Dreams Go Far Deodorant</td>\n",
       "      <td>Beauty &amp; Hygiene</td>\n",
       "      <td>Men's Grooming</td>\n",
       "      <td>United Colors Of Benetton</td>\n",
       "      <td>214.53</td>\n",
       "      <td>390.0</td>\n",
       "      <td>Men's Deodorants</td>\n",
       "      <td>4.5</td>\n",
       "      <td>The new mens fragrance from the United Dreams ...</td>\n",
       "    </tr>\n",
       "  </tbody>\n",
       "</table>\n",
       "<p>27555 rows × 9 columns</p>\n",
       "</div>"
      ],
      "text/plain": [
       "                                                 product  \\\n",
       "0                 Garlic Oil - Vegetarian Capsule 500 mg   \n",
       "1                                  Water Bottle - Orange   \n",
       "2                         Brass Angle Deep - Plain, No.2   \n",
       "3      Cereal Flip Lid Container/Storage Jar - Assort...   \n",
       "4                     Creme Soft Soap - For Hands & Body   \n",
       "...                                                  ...   \n",
       "27550         Wottagirl! Perfume Spray - Heaven, Classic   \n",
       "27551                                           Rosemary   \n",
       "27552                       Peri-Peri Sweet Potato Chips   \n",
       "27553                          Green Tea - Pure Original   \n",
       "27554                     United Dreams Go Far Deodorant   \n",
       "\n",
       "                     category              sub_category  \\\n",
       "0            Beauty & Hygiene                 Hair Care   \n",
       "1      Kitchen, Garden & Pets     Storage & Accessories   \n",
       "2        Cleaning & Household               Pooja Needs   \n",
       "3        Cleaning & Household      Bins & Bathroom Ware   \n",
       "4            Beauty & Hygiene          Bath & Hand Wash   \n",
       "...                       ...                       ...   \n",
       "27550        Beauty & Hygiene         Fragrances & Deos   \n",
       "27551    Gourmet & World Food    Cooking & Baking Needs   \n",
       "27552    Gourmet & World Food  Snacks, Dry Fruits, Nuts   \n",
       "27553               Beverages                       Tea   \n",
       "27554        Beauty & Hygiene            Men's Grooming   \n",
       "\n",
       "                            brand  sale_price  market_price  \\\n",
       "0               Sri Sri Ayurveda       220.00         220.0   \n",
       "1                      Mastercook      180.00         180.0   \n",
       "2                             Trm      119.00         250.0   \n",
       "3                          Nakoda      149.00         176.0   \n",
       "4                           Nivea      162.00         162.0   \n",
       "...                           ...         ...           ...   \n",
       "27550                      Layerr      199.20         249.0   \n",
       "27551                    Puramate       67.50          75.0   \n",
       "27552                      FabBox      200.00         200.0   \n",
       "27553                      Tetley      396.00         495.0   \n",
       "27554  United Colors Of Benetton       214.53         390.0   \n",
       "\n",
       "                           type  rating  \\\n",
       "0              Hair Oil & Serum     4.1   \n",
       "1        Water & Fridge Bottles     2.3   \n",
       "2               Lamp & Lamp Oil     3.4   \n",
       "3      Laundry, Storage Baskets     3.7   \n",
       "4          Bathing Bars & Soaps     4.4   \n",
       "...                         ...     ...   \n",
       "27550                   Perfume     3.9   \n",
       "27551  Herbs, Seasonings & Rubs     4.0   \n",
       "27552            Nachos & Chips     3.8   \n",
       "27553                  Tea Bags     4.2   \n",
       "27554          Men's Deodorants     4.5   \n",
       "\n",
       "                                             description  \n",
       "0      This Product contains Garlic Oil that is known...  \n",
       "1      Each product is microwave safe (without lid), ...  \n",
       "2      A perfect gift for all occasions, be it your m...  \n",
       "3      Multipurpose container with an attractive desi...  \n",
       "4      Nivea Creme Soft Soap gives your skin the best...  \n",
       "...                                                  ...  \n",
       "27550  Layerr brings you Wottagirl Classic fragrant b...  \n",
       "27551  Puramate rosemary is enough to transform a dis...  \n",
       "27552  We have taken the richness of Sweet Potatoes (...  \n",
       "27553  Tetley Green Tea with its refreshing pure, ori...  \n",
       "27554  The new mens fragrance from the United Dreams ...  \n",
       "\n",
       "[27555 rows x 9 columns]"
      ]
     },
     "execution_count": 14,
     "metadata": {},
     "output_type": "execute_result"
    }
   ],
   "source": [
    "df"
   ]
  },
  {
   "cell_type": "markdown",
   "id": "d5e8856e",
   "metadata": {},
   "source": [
    "## Finding out the Missing Values from the Dataset."
   ]
  },
  {
   "cell_type": "code",
   "execution_count": 15,
   "id": "c9003466",
   "metadata": {},
   "outputs": [
    {
     "data": {
      "text/plain": [
       "product            1\n",
       "category           0\n",
       "sub_category       0\n",
       "brand              1\n",
       "sale_price         6\n",
       "market_price       0\n",
       "type               0\n",
       "rating          8636\n",
       "description      115\n",
       "dtype: int64"
      ]
     },
     "execution_count": 15,
     "metadata": {},
     "output_type": "execute_result"
    }
   ],
   "source": [
    "# Find out the Missing Values from the Dataset.\n",
    "\n",
    "df.isnull().sum()"
   ]
  },
  {
   "cell_type": "markdown",
   "id": "c9f7a8c8",
   "metadata": {},
   "source": [
    "## Dealing with Null Values from the dataset according to the columns and fill them with the Median."
   ]
  },
  {
   "cell_type": "code",
   "execution_count": 16,
   "id": "1bcb3f47",
   "metadata": {},
   "outputs": [],
   "source": [
    "# Using fillna function to fill the null values present in the numberic columns with median of that particular column. \n",
    "\n",
    "df.sale_price = df.sale_price.fillna(df.sale_price.median())\n",
    "df.rating = df.rating.fillna(df.rating.median())"
   ]
  },
  {
   "cell_type": "code",
   "execution_count": 17,
   "id": "44e5d37d",
   "metadata": {},
   "outputs": [],
   "source": [
    "# Using fillna function to fill the null values present in the object columns with Unknown in that particular column.\n",
    "\n",
    "df.rating = df.rating.fillna('Unknown')\n",
    "df.description = df.description.fillna('Unknown')\n",
    "df.brand = df.brand.fillna('Unknown')\n",
    "df['product'] = df['product'].fillna('Unknown')"
   ]
  },
  {
   "cell_type": "code",
   "execution_count": 18,
   "id": "1e4bd12b",
   "metadata": {},
   "outputs": [
    {
     "data": {
      "text/plain": [
       "product         0\n",
       "category        0\n",
       "sub_category    0\n",
       "brand           0\n",
       "sale_price      0\n",
       "market_price    0\n",
       "type            0\n",
       "rating          0\n",
       "description     0\n",
       "dtype: int64"
      ]
     },
     "execution_count": 18,
     "metadata": {},
     "output_type": "execute_result"
    }
   ],
   "source": [
    "df.isnull().sum()"
   ]
  },
  {
   "cell_type": "markdown",
   "id": "8969111a",
   "metadata": {},
   "source": [
    "## Finding the Outliers present in the Dataset"
   ]
  },
  {
   "cell_type": "code",
   "execution_count": 19,
   "id": "136dfd3c",
   "metadata": {},
   "outputs": [
    {
     "data": {
      "text/plain": [
       "<Axes: >"
      ]
     },
     "execution_count": 19,
     "metadata": {},
     "output_type": "execute_result"
    },
    {
     "data": {
      "image/png": "[encoded data removed]",
      "text/plain": [
       "<Figure size 640x480 with 1 Axes>"
      ]
     },
     "metadata": {},
     "output_type": "display_data"
    }
   ],
   "source": [
    "# Checking for Outliers in df.market_price\n",
    "\n",
    "sns.boxplot(df.market_price,orient='h')"
   ]
  },
  {
   "cell_type": "code",
   "execution_count": 20,
   "id": "a06cb77a",
   "metadata": {},
   "outputs": [],
   "source": [
    "q1,q3 = df.market_price.quantile([0.25,0.75])"
   ]
  },
  {
   "cell_type": "code",
   "execution_count": 21,
   "id": "0767b2b2",
   "metadata": {},
   "outputs": [
    {
     "data": {
      "text/plain": [
       "(100.0, 425.0)"
      ]
     },
     "execution_count": 21,
     "metadata": {},
     "output_type": "execute_result"
    }
   ],
   "source": [
    "q1,q3"
   ]
  },
  {
   "cell_type": "code",
   "execution_count": 22,
   "id": "e5314ca2",
   "metadata": {},
   "outputs": [],
   "source": [
    "iqr = q3 - q1"
   ]
  },
  {
   "cell_type": "code",
   "execution_count": 23,
   "id": "8a6ccedc",
   "metadata": {},
   "outputs": [
    {
     "data": {
      "text/plain": [
       "325.0"
      ]
     },
     "execution_count": 23,
     "metadata": {},
     "output_type": "execute_result"
    }
   ],
   "source": [
    "iqr"
   ]
  },
  {
   "cell_type": "code",
   "execution_count": 24,
   "id": "b34779e4",
   "metadata": {},
   "outputs": [],
   "source": [
    "ul = q3 + (iqr)*1.5\n",
    "ll = q1 - (iqr)*1.5"
   ]
  },
  {
   "cell_type": "code",
   "execution_count": 25,
   "id": "dfb2cac9",
   "metadata": {},
   "outputs": [
    {
     "data": {
      "text/plain": [
       "(912.5, -387.5)"
      ]
     },
     "execution_count": 25,
     "metadata": {},
     "output_type": "execute_result"
    }
   ],
   "source": [
    "ul,ll"
   ]
  },
  {
   "cell_type": "code",
   "execution_count": 26,
   "id": "c03caae8",
   "metadata": {},
   "outputs": [
    {
     "data": {
      "text/html": [
       "<div>\n",
       "<style scoped>\n",
       "    .dataframe tbody tr th:only-of-type {\n",
       "        vertical-align: middle;\n",
       "    }\n",
       "\n",
       "    .dataframe tbody tr th {\n",
       "        vertical-align: top;\n",
       "    }\n",
       "\n",
       "    .dataframe thead th {\n",
       "        text-align: right;\n",
       "    }\n",
       "</style>\n",
       "<table border=\"1\" class=\"dataframe\">\n",
       "  <thead>\n",
       "    <tr style=\"text-align: right;\">\n",
       "      <th></th>\n",
       "      <th>product</th>\n",
       "      <th>category</th>\n",
       "      <th>sub_category</th>\n",
       "      <th>brand</th>\n",
       "      <th>sale_price</th>\n",
       "      <th>market_price</th>\n",
       "      <th>type</th>\n",
       "      <th>rating</th>\n",
       "      <th>description</th>\n",
       "    </tr>\n",
       "  </thead>\n",
       "  <tbody>\n",
       "    <tr>\n",
       "      <th>8</th>\n",
       "      <td>Biotin &amp; Collagen Volumizing Hair Shampoo + Bi...</td>\n",
       "      <td>Beauty &amp; Hygiene</td>\n",
       "      <td>Hair Care</td>\n",
       "      <td>StBotanica</td>\n",
       "      <td>1098.00</td>\n",
       "      <td>1098.0</td>\n",
       "      <td>Shampoo &amp; Conditioner</td>\n",
       "      <td>3.5</td>\n",
       "      <td>An exclusive blend with Vitamin B7 Biotin, Hyd...</td>\n",
       "    </tr>\n",
       "    <tr>\n",
       "      <th>34</th>\n",
       "      <td>Pet Solitaire Container Set - Silver</td>\n",
       "      <td>Kitchen, Garden &amp; Pets</td>\n",
       "      <td>Storage &amp; Accessories</td>\n",
       "      <td>Steelo</td>\n",
       "      <td>499.00</td>\n",
       "      <td>969.0</td>\n",
       "      <td>Containers Sets</td>\n",
       "      <td>3.9</td>\n",
       "      <td>The Steelo plastic PET Container Set, is made ...</td>\n",
       "    </tr>\n",
       "    <tr>\n",
       "      <th>96</th>\n",
       "      <td>Hair Remover Spray - Foam Lemon</td>\n",
       "      <td>Beauty &amp; Hygiene</td>\n",
       "      <td>Feminine Hygiene</td>\n",
       "      <td>Dimples</td>\n",
       "      <td>1200.00</td>\n",
       "      <td>1200.0</td>\n",
       "      <td>Hair Removal</td>\n",
       "      <td>4.1</td>\n",
       "      <td>Denim BlackÃ‚ is made for the bold and the con...</td>\n",
       "    </tr>\n",
       "    <tr>\n",
       "      <th>99</th>\n",
       "      <td>Wonder Diaper Pants - Xtra Large, 12-17 Kg</td>\n",
       "      <td>Baby Care</td>\n",
       "      <td>Diapers &amp; Wipes</td>\n",
       "      <td>Huggies</td>\n",
       "      <td>1266.38</td>\n",
       "      <td>1398.0</td>\n",
       "      <td>Diapers</td>\n",
       "      <td>4.0</td>\n",
       "      <td>Huggies knows that nothing is more important t...</td>\n",
       "    </tr>\n",
       "    <tr>\n",
       "      <th>118</th>\n",
       "      <td>Adult Dry Cat Food - +1 Year, Ocean Fish</td>\n",
       "      <td>Kitchen, Garden &amp; Pets</td>\n",
       "      <td>Pet Food &amp; Accessories</td>\n",
       "      <td>Maxi Persian</td>\n",
       "      <td>999.00</td>\n",
       "      <td>999.0</td>\n",
       "      <td>Pet Meals &amp; Treats</td>\n",
       "      <td>4.1</td>\n",
       "      <td>A nutrient-rich food that has been formulated ...</td>\n",
       "    </tr>\n",
       "    <tr>\n",
       "      <th>...</th>\n",
       "      <td>...</td>\n",
       "      <td>...</td>\n",
       "      <td>...</td>\n",
       "      <td>...</td>\n",
       "      <td>...</td>\n",
       "      <td>...</td>\n",
       "      <td>...</td>\n",
       "      <td>...</td>\n",
       "      <td>...</td>\n",
       "    </tr>\n",
       "    <tr>\n",
       "      <th>27488</th>\n",
       "      <td>Cranberry - Dried, Sliced</td>\n",
       "      <td>Gourmet &amp; World Food</td>\n",
       "      <td>Snacks, Dry Fruits, Nuts</td>\n",
       "      <td>Rostaa</td>\n",
       "      <td>793.80</td>\n",
       "      <td>980.0</td>\n",
       "      <td>Dry Fruits &amp; Berries</td>\n",
       "      <td>4.1</td>\n",
       "      <td>These sweet and tart sliced cranberries with n...</td>\n",
       "    </tr>\n",
       "    <tr>\n",
       "      <th>27498</th>\n",
       "      <td>Juicer - Fruit &amp; Vegetable, Light Green</td>\n",
       "      <td>Kitchen, Garden &amp; Pets</td>\n",
       "      <td>Kitchen Accessories</td>\n",
       "      <td>Ganesh</td>\n",
       "      <td>1071.00</td>\n",
       "      <td>1071.0</td>\n",
       "      <td>Kitchen Tools &amp; Other Accessories</td>\n",
       "      <td>2.0</td>\n",
       "      <td>This juicer comes in various attractive colour...</td>\n",
       "    </tr>\n",
       "    <tr>\n",
       "      <th>27514</th>\n",
       "      <td>Verge &amp; Sheer Perfume For Pair</td>\n",
       "      <td>Beauty &amp; Hygiene</td>\n",
       "      <td>Fragrances &amp; Deos</td>\n",
       "      <td>Skinn by Titan</td>\n",
       "      <td>1615.50</td>\n",
       "      <td>1795.0</td>\n",
       "      <td>Perfume</td>\n",
       "      <td>4.1</td>\n",
       "      <td>VERGE for men paints a picture of a classy out...</td>\n",
       "    </tr>\n",
       "    <tr>\n",
       "      <th>27538</th>\n",
       "      <td>Quista Pro Advanced Whey Protein Formula forti...</td>\n",
       "      <td>Beauty &amp; Hygiene</td>\n",
       "      <td>Health &amp; Medicine</td>\n",
       "      <td>Himalaya</td>\n",
       "      <td>4500.00</td>\n",
       "      <td>4500.0</td>\n",
       "      <td>Supplements &amp; Proteins</td>\n",
       "      <td>4.0</td>\n",
       "      <td>Quista Pro is a whey protein blend that helps ...</td>\n",
       "    </tr>\n",
       "    <tr>\n",
       "      <th>27542</th>\n",
       "      <td>Embellish Skin Lightening Serum</td>\n",
       "      <td>Beauty &amp; Hygiene</td>\n",
       "      <td>Skin Care</td>\n",
       "      <td>Organic Harvest</td>\n",
       "      <td>1525.75</td>\n",
       "      <td>1795.0</td>\n",
       "      <td>Face Care</td>\n",
       "      <td>4.2</td>\n",
       "      <td>Achieve an everlasting illuminated skin by inc...</td>\n",
       "    </tr>\n",
       "  </tbody>\n",
       "</table>\n",
       "<p>2147 rows × 9 columns</p>\n",
       "</div>"
      ],
      "text/plain": [
       "                                                 product  \\\n",
       "8      Biotin & Collagen Volumizing Hair Shampoo + Bi...   \n",
       "34                  Pet Solitaire Container Set - Silver   \n",
       "96                       Hair Remover Spray - Foam Lemon   \n",
       "99            Wonder Diaper Pants - Xtra Large, 12-17 Kg   \n",
       "118             Adult Dry Cat Food - +1 Year, Ocean Fish   \n",
       "...                                                  ...   \n",
       "27488                          Cranberry - Dried, Sliced   \n",
       "27498            Juicer - Fruit & Vegetable, Light Green   \n",
       "27514                     Verge & Sheer Perfume For Pair   \n",
       "27538  Quista Pro Advanced Whey Protein Formula forti...   \n",
       "27542                    Embellish Skin Lightening Serum   \n",
       "\n",
       "                     category              sub_category            brand  \\\n",
       "8            Beauty & Hygiene                 Hair Care       StBotanica   \n",
       "34     Kitchen, Garden & Pets     Storage & Accessories           Steelo   \n",
       "96           Beauty & Hygiene          Feminine Hygiene          Dimples   \n",
       "99                  Baby Care           Diapers & Wipes          Huggies   \n",
       "118    Kitchen, Garden & Pets    Pet Food & Accessories     Maxi Persian   \n",
       "...                       ...                       ...              ...   \n",
       "27488    Gourmet & World Food  Snacks, Dry Fruits, Nuts           Rostaa   \n",
       "27498  Kitchen, Garden & Pets       Kitchen Accessories           Ganesh   \n",
       "27514        Beauty & Hygiene         Fragrances & Deos   Skinn by Titan   \n",
       "27538        Beauty & Hygiene         Health & Medicine         Himalaya   \n",
       "27542        Beauty & Hygiene                 Skin Care  Organic Harvest   \n",
       "\n",
       "       sale_price  market_price                               type  rating  \\\n",
       "8         1098.00        1098.0              Shampoo & Conditioner     3.5   \n",
       "34         499.00         969.0                    Containers Sets     3.9   \n",
       "96        1200.00        1200.0                       Hair Removal     4.1   \n",
       "99        1266.38        1398.0                            Diapers     4.0   \n",
       "118        999.00         999.0                 Pet Meals & Treats     4.1   \n",
       "...           ...           ...                                ...     ...   \n",
       "27488      793.80         980.0               Dry Fruits & Berries     4.1   \n",
       "27498     1071.00        1071.0  Kitchen Tools & Other Accessories     2.0   \n",
       "27514     1615.50        1795.0                            Perfume     4.1   \n",
       "27538     4500.00        4500.0             Supplements & Proteins     4.0   \n",
       "27542     1525.75        1795.0                          Face Care     4.2   \n",
       "\n",
       "                                             description  \n",
       "8      An exclusive blend with Vitamin B7 Biotin, Hyd...  \n",
       "34     The Steelo plastic PET Container Set, is made ...  \n",
       "96     Denim BlackÃ‚ is made for the bold and the con...  \n",
       "99     Huggies knows that nothing is more important t...  \n",
       "118    A nutrient-rich food that has been formulated ...  \n",
       "...                                                  ...  \n",
       "27488  These sweet and tart sliced cranberries with n...  \n",
       "27498  This juicer comes in various attractive colour...  \n",
       "27514  VERGE for men paints a picture of a classy out...  \n",
       "27538  Quista Pro is a whey protein blend that helps ...  \n",
       "27542  Achieve an everlasting illuminated skin by inc...  \n",
       "\n",
       "[2147 rows x 9 columns]"
      ]
     },
     "execution_count": 26,
     "metadata": {},
     "output_type": "execute_result"
    }
   ],
   "source": [
    "df[df.market_price>ul]"
   ]
  },
  {
   "cell_type": "code",
   "execution_count": 27,
   "id": "f825f5d3",
   "metadata": {},
   "outputs": [],
   "source": [
    "df.market_price = np.where(df.market_price>ul,ul,df.market_price)"
   ]
  },
  {
   "cell_type": "code",
   "execution_count": 28,
   "id": "c153e12b",
   "metadata": {},
   "outputs": [
    {
     "data": {
      "text/html": [
       "<div>\n",
       "<style scoped>\n",
       "    .dataframe tbody tr th:only-of-type {\n",
       "        vertical-align: middle;\n",
       "    }\n",
       "\n",
       "    .dataframe tbody tr th {\n",
       "        vertical-align: top;\n",
       "    }\n",
       "\n",
       "    .dataframe thead th {\n",
       "        text-align: right;\n",
       "    }\n",
       "</style>\n",
       "<table border=\"1\" class=\"dataframe\">\n",
       "  <thead>\n",
       "    <tr style=\"text-align: right;\">\n",
       "      <th></th>\n",
       "      <th>product</th>\n",
       "      <th>category</th>\n",
       "      <th>sub_category</th>\n",
       "      <th>brand</th>\n",
       "      <th>sale_price</th>\n",
       "      <th>market_price</th>\n",
       "      <th>type</th>\n",
       "      <th>rating</th>\n",
       "      <th>description</th>\n",
       "    </tr>\n",
       "  </thead>\n",
       "  <tbody>\n",
       "    <tr>\n",
       "      <th>0</th>\n",
       "      <td>Garlic Oil - Vegetarian Capsule 500 mg</td>\n",
       "      <td>Beauty &amp; Hygiene</td>\n",
       "      <td>Hair Care</td>\n",
       "      <td>Sri Sri Ayurveda</td>\n",
       "      <td>220.00</td>\n",
       "      <td>220.0</td>\n",
       "      <td>Hair Oil &amp; Serum</td>\n",
       "      <td>4.1</td>\n",
       "      <td>This Product contains Garlic Oil that is known...</td>\n",
       "    </tr>\n",
       "    <tr>\n",
       "      <th>1</th>\n",
       "      <td>Water Bottle - Orange</td>\n",
       "      <td>Kitchen, Garden &amp; Pets</td>\n",
       "      <td>Storage &amp; Accessories</td>\n",
       "      <td>Mastercook</td>\n",
       "      <td>180.00</td>\n",
       "      <td>180.0</td>\n",
       "      <td>Water &amp; Fridge Bottles</td>\n",
       "      <td>2.3</td>\n",
       "      <td>Each product is microwave safe (without lid), ...</td>\n",
       "    </tr>\n",
       "    <tr>\n",
       "      <th>2</th>\n",
       "      <td>Brass Angle Deep - Plain, No.2</td>\n",
       "      <td>Cleaning &amp; Household</td>\n",
       "      <td>Pooja Needs</td>\n",
       "      <td>Trm</td>\n",
       "      <td>119.00</td>\n",
       "      <td>250.0</td>\n",
       "      <td>Lamp &amp; Lamp Oil</td>\n",
       "      <td>3.4</td>\n",
       "      <td>A perfect gift for all occasions, be it your m...</td>\n",
       "    </tr>\n",
       "    <tr>\n",
       "      <th>3</th>\n",
       "      <td>Cereal Flip Lid Container/Storage Jar - Assort...</td>\n",
       "      <td>Cleaning &amp; Household</td>\n",
       "      <td>Bins &amp; Bathroom Ware</td>\n",
       "      <td>Nakoda</td>\n",
       "      <td>149.00</td>\n",
       "      <td>176.0</td>\n",
       "      <td>Laundry, Storage Baskets</td>\n",
       "      <td>3.7</td>\n",
       "      <td>Multipurpose container with an attractive desi...</td>\n",
       "    </tr>\n",
       "    <tr>\n",
       "      <th>4</th>\n",
       "      <td>Creme Soft Soap - For Hands &amp; Body</td>\n",
       "      <td>Beauty &amp; Hygiene</td>\n",
       "      <td>Bath &amp; Hand Wash</td>\n",
       "      <td>Nivea</td>\n",
       "      <td>162.00</td>\n",
       "      <td>162.0</td>\n",
       "      <td>Bathing Bars &amp; Soaps</td>\n",
       "      <td>4.4</td>\n",
       "      <td>Nivea Creme Soft Soap gives your skin the best...</td>\n",
       "    </tr>\n",
       "    <tr>\n",
       "      <th>...</th>\n",
       "      <td>...</td>\n",
       "      <td>...</td>\n",
       "      <td>...</td>\n",
       "      <td>...</td>\n",
       "      <td>...</td>\n",
       "      <td>...</td>\n",
       "      <td>...</td>\n",
       "      <td>...</td>\n",
       "      <td>...</td>\n",
       "    </tr>\n",
       "    <tr>\n",
       "      <th>27550</th>\n",
       "      <td>Wottagirl! Perfume Spray - Heaven, Classic</td>\n",
       "      <td>Beauty &amp; Hygiene</td>\n",
       "      <td>Fragrances &amp; Deos</td>\n",
       "      <td>Layerr</td>\n",
       "      <td>199.20</td>\n",
       "      <td>249.0</td>\n",
       "      <td>Perfume</td>\n",
       "      <td>3.9</td>\n",
       "      <td>Layerr brings you Wottagirl Classic fragrant b...</td>\n",
       "    </tr>\n",
       "    <tr>\n",
       "      <th>27551</th>\n",
       "      <td>Rosemary</td>\n",
       "      <td>Gourmet &amp; World Food</td>\n",
       "      <td>Cooking &amp; Baking Needs</td>\n",
       "      <td>Puramate</td>\n",
       "      <td>67.50</td>\n",
       "      <td>75.0</td>\n",
       "      <td>Herbs, Seasonings &amp; Rubs</td>\n",
       "      <td>4.0</td>\n",
       "      <td>Puramate rosemary is enough to transform a dis...</td>\n",
       "    </tr>\n",
       "    <tr>\n",
       "      <th>27552</th>\n",
       "      <td>Peri-Peri Sweet Potato Chips</td>\n",
       "      <td>Gourmet &amp; World Food</td>\n",
       "      <td>Snacks, Dry Fruits, Nuts</td>\n",
       "      <td>FabBox</td>\n",
       "      <td>200.00</td>\n",
       "      <td>200.0</td>\n",
       "      <td>Nachos &amp; Chips</td>\n",
       "      <td>3.8</td>\n",
       "      <td>We have taken the richness of Sweet Potatoes (...</td>\n",
       "    </tr>\n",
       "    <tr>\n",
       "      <th>27553</th>\n",
       "      <td>Green Tea - Pure Original</td>\n",
       "      <td>Beverages</td>\n",
       "      <td>Tea</td>\n",
       "      <td>Tetley</td>\n",
       "      <td>396.00</td>\n",
       "      <td>495.0</td>\n",
       "      <td>Tea Bags</td>\n",
       "      <td>4.2</td>\n",
       "      <td>Tetley Green Tea with its refreshing pure, ori...</td>\n",
       "    </tr>\n",
       "    <tr>\n",
       "      <th>27554</th>\n",
       "      <td>United Dreams Go Far Deodorant</td>\n",
       "      <td>Beauty &amp; Hygiene</td>\n",
       "      <td>Men's Grooming</td>\n",
       "      <td>United Colors Of Benetton</td>\n",
       "      <td>214.53</td>\n",
       "      <td>390.0</td>\n",
       "      <td>Men's Deodorants</td>\n",
       "      <td>4.5</td>\n",
       "      <td>The new mens fragrance from the United Dreams ...</td>\n",
       "    </tr>\n",
       "  </tbody>\n",
       "</table>\n",
       "<p>27555 rows × 9 columns</p>\n",
       "</div>"
      ],
      "text/plain": [
       "                                                 product  \\\n",
       "0                 Garlic Oil - Vegetarian Capsule 500 mg   \n",
       "1                                  Water Bottle - Orange   \n",
       "2                         Brass Angle Deep - Plain, No.2   \n",
       "3      Cereal Flip Lid Container/Storage Jar - Assort...   \n",
       "4                     Creme Soft Soap - For Hands & Body   \n",
       "...                                                  ...   \n",
       "27550         Wottagirl! Perfume Spray - Heaven, Classic   \n",
       "27551                                           Rosemary   \n",
       "27552                       Peri-Peri Sweet Potato Chips   \n",
       "27553                          Green Tea - Pure Original   \n",
       "27554                     United Dreams Go Far Deodorant   \n",
       "\n",
       "                     category              sub_category  \\\n",
       "0            Beauty & Hygiene                 Hair Care   \n",
       "1      Kitchen, Garden & Pets     Storage & Accessories   \n",
       "2        Cleaning & Household               Pooja Needs   \n",
       "3        Cleaning & Household      Bins & Bathroom Ware   \n",
       "4            Beauty & Hygiene          Bath & Hand Wash   \n",
       "...                       ...                       ...   \n",
       "27550        Beauty & Hygiene         Fragrances & Deos   \n",
       "27551    Gourmet & World Food    Cooking & Baking Needs   \n",
       "27552    Gourmet & World Food  Snacks, Dry Fruits, Nuts   \n",
       "27553               Beverages                       Tea   \n",
       "27554        Beauty & Hygiene            Men's Grooming   \n",
       "\n",
       "                            brand  sale_price  market_price  \\\n",
       "0               Sri Sri Ayurveda       220.00         220.0   \n",
       "1                      Mastercook      180.00         180.0   \n",
       "2                             Trm      119.00         250.0   \n",
       "3                          Nakoda      149.00         176.0   \n",
       "4                           Nivea      162.00         162.0   \n",
       "...                           ...         ...           ...   \n",
       "27550                      Layerr      199.20         249.0   \n",
       "27551                    Puramate       67.50          75.0   \n",
       "27552                      FabBox      200.00         200.0   \n",
       "27553                      Tetley      396.00         495.0   \n",
       "27554  United Colors Of Benetton       214.53         390.0   \n",
       "\n",
       "                           type  rating  \\\n",
       "0              Hair Oil & Serum     4.1   \n",
       "1        Water & Fridge Bottles     2.3   \n",
       "2               Lamp & Lamp Oil     3.4   \n",
       "3      Laundry, Storage Baskets     3.7   \n",
       "4          Bathing Bars & Soaps     4.4   \n",
       "...                         ...     ...   \n",
       "27550                   Perfume     3.9   \n",
       "27551  Herbs, Seasonings & Rubs     4.0   \n",
       "27552            Nachos & Chips     3.8   \n",
       "27553                  Tea Bags     4.2   \n",
       "27554          Men's Deodorants     4.5   \n",
       "\n",
       "                                             description  \n",
       "0      This Product contains Garlic Oil that is known...  \n",
       "1      Each product is microwave safe (without lid), ...  \n",
       "2      A perfect gift for all occasions, be it your m...  \n",
       "3      Multipurpose container with an attractive desi...  \n",
       "4      Nivea Creme Soft Soap gives your skin the best...  \n",
       "...                                                  ...  \n",
       "27550  Layerr brings you Wottagirl Classic fragrant b...  \n",
       "27551  Puramate rosemary is enough to transform a dis...  \n",
       "27552  We have taken the richness of Sweet Potatoes (...  \n",
       "27553  Tetley Green Tea with its refreshing pure, ori...  \n",
       "27554  The new mens fragrance from the United Dreams ...  \n",
       "\n",
       "[27555 rows x 9 columns]"
      ]
     },
     "execution_count": 28,
     "metadata": {},
     "output_type": "execute_result"
    }
   ],
   "source": [
    "df"
   ]
  },
  {
   "cell_type": "code",
   "execution_count": 29,
   "id": "605eac2f",
   "metadata": {},
   "outputs": [
    {
     "data": {
      "text/plain": [
       "<Axes: >"
      ]
     },
     "execution_count": 29,
     "metadata": {},
     "output_type": "execute_result"
    },
    {
     "data": {
      "image/png": "[encoded data removed]",
      "text/plain": [
       "<Figure size 640x480 with 1 Axes>"
      ]
     },
     "metadata": {},
     "output_type": "display_data"
    }
   ],
   "source": [
    "# Checking whether outliers have been dealt with and checking if their are any outliers remaining the df.market_price\n",
    "\n",
    "sns.boxplot(df.market_price)"
   ]
  },
  {
   "cell_type": "code",
   "execution_count": 30,
   "id": "fd411eaa",
   "metadata": {},
   "outputs": [
    {
     "data": {
      "text/plain": [
       "<Axes: >"
      ]
     },
     "execution_count": 30,
     "metadata": {},
     "output_type": "execute_result"
    },
    {
     "data": {
      "image/png": "[encoded data removed]",
      "text/plain": [
       "<Figure size 640x480 with 1 Axes>"
      ]
     },
     "metadata": {},
     "output_type": "display_data"
    }
   ],
   "source": [
    "# Checking the Outliers present in df.sale_price\n",
    "sns.boxplot(df.sale_price,orient='h')"
   ]
  },
  {
   "cell_type": "code",
   "execution_count": 31,
   "id": "6b98cbe9",
   "metadata": {},
   "outputs": [],
   "source": [
    "Q1,Q3 = df.sale_price.quantile([0.25,0.75])"
   ]
  },
  {
   "cell_type": "code",
   "execution_count": 32,
   "id": "449fe2c5",
   "metadata": {},
   "outputs": [
    {
     "data": {
      "text/plain": [
       "(95.0, 359.0)"
      ]
     },
     "execution_count": 32,
     "metadata": {},
     "output_type": "execute_result"
    }
   ],
   "source": [
    "Q1,Q3"
   ]
  },
  {
   "cell_type": "code",
   "execution_count": 33,
   "id": "4674bf99",
   "metadata": {},
   "outputs": [],
   "source": [
    "IQR = Q3 - Q1"
   ]
  },
  {
   "cell_type": "code",
   "execution_count": 34,
   "id": "3950a459",
   "metadata": {},
   "outputs": [
    {
     "data": {
      "text/plain": [
       "264.0"
      ]
     },
     "execution_count": 34,
     "metadata": {},
     "output_type": "execute_result"
    }
   ],
   "source": [
    "IQR"
   ]
  },
  {
   "cell_type": "code",
   "execution_count": 35,
   "id": "89847886",
   "metadata": {},
   "outputs": [],
   "source": [
    "UL = Q3 + 1.5*(IQR)\n",
    "LL = Q1 - 1.5*(IQR)"
   ]
  },
  {
   "cell_type": "code",
   "execution_count": 36,
   "id": "6dfdb037",
   "metadata": {},
   "outputs": [
    {
     "data": {
      "text/plain": [
       "(755.0, -301.0)"
      ]
     },
     "execution_count": 36,
     "metadata": {},
     "output_type": "execute_result"
    }
   ],
   "source": [
    "UL,LL"
   ]
  },
  {
   "cell_type": "code",
   "execution_count": 37,
   "id": "c5cd5b31",
   "metadata": {},
   "outputs": [
    {
     "data": {
      "text/html": [
       "<div>\n",
       "<style scoped>\n",
       "    .dataframe tbody tr th:only-of-type {\n",
       "        vertical-align: middle;\n",
       "    }\n",
       "\n",
       "    .dataframe tbody tr th {\n",
       "        vertical-align: top;\n",
       "    }\n",
       "\n",
       "    .dataframe thead th {\n",
       "        text-align: right;\n",
       "    }\n",
       "</style>\n",
       "<table border=\"1\" class=\"dataframe\">\n",
       "  <thead>\n",
       "    <tr style=\"text-align: right;\">\n",
       "      <th></th>\n",
       "      <th>product</th>\n",
       "      <th>category</th>\n",
       "      <th>sub_category</th>\n",
       "      <th>brand</th>\n",
       "      <th>sale_price</th>\n",
       "      <th>market_price</th>\n",
       "      <th>type</th>\n",
       "      <th>rating</th>\n",
       "      <th>description</th>\n",
       "    </tr>\n",
       "  </thead>\n",
       "  <tbody>\n",
       "    <tr>\n",
       "      <th>8</th>\n",
       "      <td>Biotin &amp; Collagen Volumizing Hair Shampoo + Bi...</td>\n",
       "      <td>Beauty &amp; Hygiene</td>\n",
       "      <td>Hair Care</td>\n",
       "      <td>StBotanica</td>\n",
       "      <td>1098.00</td>\n",
       "      <td>912.5</td>\n",
       "      <td>Shampoo &amp; Conditioner</td>\n",
       "      <td>3.5</td>\n",
       "      <td>An exclusive blend with Vitamin B7 Biotin, Hyd...</td>\n",
       "    </tr>\n",
       "    <tr>\n",
       "      <th>47</th>\n",
       "      <td>Colour Catcher Sheets</td>\n",
       "      <td>Cleaning &amp; Household</td>\n",
       "      <td>All Purpose Cleaners</td>\n",
       "      <td>Dylon</td>\n",
       "      <td>799.00</td>\n",
       "      <td>799.0</td>\n",
       "      <td>Imported Cleaners</td>\n",
       "      <td>4.0</td>\n",
       "      <td>1. Prevents Colour Run Accidents Colours that ...</td>\n",
       "    </tr>\n",
       "    <tr>\n",
       "      <th>51</th>\n",
       "      <td>Peach Syrup</td>\n",
       "      <td>Gourmet &amp; World Food</td>\n",
       "      <td>Drinks &amp; Beverages</td>\n",
       "      <td>Pekers</td>\n",
       "      <td>850.00</td>\n",
       "      <td>850.0</td>\n",
       "      <td>Gourmet Juices &amp; Drinks</td>\n",
       "      <td>4.2</td>\n",
       "      <td>Pekers peach syrup takes you on a historical t...</td>\n",
       "    </tr>\n",
       "    <tr>\n",
       "      <th>69</th>\n",
       "      <td>Padded Harness - 3/4 inch, Grey Colour</td>\n",
       "      <td>Kitchen, Garden &amp; Pets</td>\n",
       "      <td>Pet Food &amp; Accessories</td>\n",
       "      <td>Glenand</td>\n",
       "      <td>840.00</td>\n",
       "      <td>840.0</td>\n",
       "      <td>Pet Collars &amp; Leashes</td>\n",
       "      <td>4.1</td>\n",
       "      <td>These are soft padded harness for your active ...</td>\n",
       "    </tr>\n",
       "    <tr>\n",
       "      <th>91</th>\n",
       "      <td>Hard Anodised Ezee-Pour Saucepan With Lid - L88</td>\n",
       "      <td>Kitchen, Garden &amp; Pets</td>\n",
       "      <td>Cookware &amp; Non Stick</td>\n",
       "      <td>Hawkins Futura</td>\n",
       "      <td>864.50</td>\n",
       "      <td>910.0</td>\n",
       "      <td>Tawa &amp; Sauce Pan</td>\n",
       "      <td>4.6</td>\n",
       "      <td>Futura Hard Anodised Saucepan comes with a spo...</td>\n",
       "    </tr>\n",
       "    <tr>\n",
       "      <th>...</th>\n",
       "      <td>...</td>\n",
       "      <td>...</td>\n",
       "      <td>...</td>\n",
       "      <td>...</td>\n",
       "      <td>...</td>\n",
       "      <td>...</td>\n",
       "      <td>...</td>\n",
       "      <td>...</td>\n",
       "      <td>...</td>\n",
       "    </tr>\n",
       "    <tr>\n",
       "      <th>27498</th>\n",
       "      <td>Juicer - Fruit &amp; Vegetable, Light Green</td>\n",
       "      <td>Kitchen, Garden &amp; Pets</td>\n",
       "      <td>Kitchen Accessories</td>\n",
       "      <td>Ganesh</td>\n",
       "      <td>1071.00</td>\n",
       "      <td>912.5</td>\n",
       "      <td>Kitchen Tools &amp; Other Accessories</td>\n",
       "      <td>2.0</td>\n",
       "      <td>This juicer comes in various attractive colour...</td>\n",
       "    </tr>\n",
       "    <tr>\n",
       "      <th>27505</th>\n",
       "      <td>Virgin Coconut Oil</td>\n",
       "      <td>Foodgrains, Oil &amp; Masala</td>\n",
       "      <td>Edible Oils &amp; Ghee</td>\n",
       "      <td>Merkera</td>\n",
       "      <td>875.00</td>\n",
       "      <td>875.0</td>\n",
       "      <td>Other Edible Oils</td>\n",
       "      <td>4.1</td>\n",
       "      <td>Merkera Extra Virgin Coconut Oil 100% natural,...</td>\n",
       "    </tr>\n",
       "    <tr>\n",
       "      <th>27514</th>\n",
       "      <td>Verge &amp; Sheer Perfume For Pair</td>\n",
       "      <td>Beauty &amp; Hygiene</td>\n",
       "      <td>Fragrances &amp; Deos</td>\n",
       "      <td>Skinn by Titan</td>\n",
       "      <td>1615.50</td>\n",
       "      <td>912.5</td>\n",
       "      <td>Perfume</td>\n",
       "      <td>4.1</td>\n",
       "      <td>VERGE for men paints a picture of a classy out...</td>\n",
       "    </tr>\n",
       "    <tr>\n",
       "      <th>27538</th>\n",
       "      <td>Quista Pro Advanced Whey Protein Formula forti...</td>\n",
       "      <td>Beauty &amp; Hygiene</td>\n",
       "      <td>Health &amp; Medicine</td>\n",
       "      <td>Himalaya</td>\n",
       "      <td>4500.00</td>\n",
       "      <td>912.5</td>\n",
       "      <td>Supplements &amp; Proteins</td>\n",
       "      <td>4.0</td>\n",
       "      <td>Quista Pro is a whey protein blend that helps ...</td>\n",
       "    </tr>\n",
       "    <tr>\n",
       "      <th>27542</th>\n",
       "      <td>Embellish Skin Lightening Serum</td>\n",
       "      <td>Beauty &amp; Hygiene</td>\n",
       "      <td>Skin Care</td>\n",
       "      <td>Organic Harvest</td>\n",
       "      <td>1525.75</td>\n",
       "      <td>912.5</td>\n",
       "      <td>Face Care</td>\n",
       "      <td>4.2</td>\n",
       "      <td>Achieve an everlasting illuminated skin by inc...</td>\n",
       "    </tr>\n",
       "  </tbody>\n",
       "</table>\n",
       "<p>2203 rows × 9 columns</p>\n",
       "</div>"
      ],
      "text/plain": [
       "                                                 product  \\\n",
       "8      Biotin & Collagen Volumizing Hair Shampoo + Bi...   \n",
       "47                                 Colour Catcher Sheets   \n",
       "51                                           Peach Syrup   \n",
       "69                Padded Harness - 3/4 inch, Grey Colour   \n",
       "91       Hard Anodised Ezee-Pour Saucepan With Lid - L88   \n",
       "...                                                  ...   \n",
       "27498            Juicer - Fruit & Vegetable, Light Green   \n",
       "27505                                 Virgin Coconut Oil   \n",
       "27514                     Verge & Sheer Perfume For Pair   \n",
       "27538  Quista Pro Advanced Whey Protein Formula forti...   \n",
       "27542                    Embellish Skin Lightening Serum   \n",
       "\n",
       "                       category            sub_category            brand  \\\n",
       "8              Beauty & Hygiene               Hair Care       StBotanica   \n",
       "47         Cleaning & Household    All Purpose Cleaners           Dylon    \n",
       "51         Gourmet & World Food      Drinks & Beverages           Pekers   \n",
       "69       Kitchen, Garden & Pets  Pet Food & Accessories          Glenand   \n",
       "91       Kitchen, Garden & Pets    Cookware & Non Stick   Hawkins Futura   \n",
       "...                         ...                     ...              ...   \n",
       "27498    Kitchen, Garden & Pets     Kitchen Accessories           Ganesh   \n",
       "27505  Foodgrains, Oil & Masala      Edible Oils & Ghee          Merkera   \n",
       "27514          Beauty & Hygiene       Fragrances & Deos   Skinn by Titan   \n",
       "27538          Beauty & Hygiene       Health & Medicine         Himalaya   \n",
       "27542          Beauty & Hygiene               Skin Care  Organic Harvest   \n",
       "\n",
       "       sale_price  market_price                               type  rating  \\\n",
       "8         1098.00         912.5              Shampoo & Conditioner     3.5   \n",
       "47         799.00         799.0                  Imported Cleaners     4.0   \n",
       "51         850.00         850.0            Gourmet Juices & Drinks     4.2   \n",
       "69         840.00         840.0              Pet Collars & Leashes     4.1   \n",
       "91         864.50         910.0                   Tawa & Sauce Pan     4.6   \n",
       "...           ...           ...                                ...     ...   \n",
       "27498     1071.00         912.5  Kitchen Tools & Other Accessories     2.0   \n",
       "27505      875.00         875.0                  Other Edible Oils     4.1   \n",
       "27514     1615.50         912.5                            Perfume     4.1   \n",
       "27538     4500.00         912.5             Supplements & Proteins     4.0   \n",
       "27542     1525.75         912.5                          Face Care     4.2   \n",
       "\n",
       "                                             description  \n",
       "8      An exclusive blend with Vitamin B7 Biotin, Hyd...  \n",
       "47     1. Prevents Colour Run Accidents Colours that ...  \n",
       "51     Pekers peach syrup takes you on a historical t...  \n",
       "69     These are soft padded harness for your active ...  \n",
       "91     Futura Hard Anodised Saucepan comes with a spo...  \n",
       "...                                                  ...  \n",
       "27498  This juicer comes in various attractive colour...  \n",
       "27505  Merkera Extra Virgin Coconut Oil 100% natural,...  \n",
       "27514  VERGE for men paints a picture of a classy out...  \n",
       "27538  Quista Pro is a whey protein blend that helps ...  \n",
       "27542  Achieve an everlasting illuminated skin by inc...  \n",
       "\n",
       "[2203 rows x 9 columns]"
      ]
     },
     "execution_count": 37,
     "metadata": {},
     "output_type": "execute_result"
    }
   ],
   "source": [
    "df[df.sale_price>UL]"
   ]
  },
  {
   "cell_type": "code",
   "execution_count": 38,
   "id": "87f1982c",
   "metadata": {},
   "outputs": [],
   "source": [
    "df.sale_price = np.where(df.sale_price>UL,UL,df.sale_price)"
   ]
  },
  {
   "cell_type": "code",
   "execution_count": 39,
   "id": "a01d9408",
   "metadata": {},
   "outputs": [
    {
     "data": {
      "text/html": [
       "<div>\n",
       "<style scoped>\n",
       "    .dataframe tbody tr th:only-of-type {\n",
       "        vertical-align: middle;\n",
       "    }\n",
       "\n",
       "    .dataframe tbody tr th {\n",
       "        vertical-align: top;\n",
       "    }\n",
       "\n",
       "    .dataframe thead th {\n",
       "        text-align: right;\n",
       "    }\n",
       "</style>\n",
       "<table border=\"1\" class=\"dataframe\">\n",
       "  <thead>\n",
       "    <tr style=\"text-align: right;\">\n",
       "      <th></th>\n",
       "      <th>product</th>\n",
       "      <th>category</th>\n",
       "      <th>sub_category</th>\n",
       "      <th>brand</th>\n",
       "      <th>sale_price</th>\n",
       "      <th>market_price</th>\n",
       "      <th>type</th>\n",
       "      <th>rating</th>\n",
       "      <th>description</th>\n",
       "    </tr>\n",
       "  </thead>\n",
       "  <tbody>\n",
       "    <tr>\n",
       "      <th>0</th>\n",
       "      <td>Garlic Oil - Vegetarian Capsule 500 mg</td>\n",
       "      <td>Beauty &amp; Hygiene</td>\n",
       "      <td>Hair Care</td>\n",
       "      <td>Sri Sri Ayurveda</td>\n",
       "      <td>220.00</td>\n",
       "      <td>220.0</td>\n",
       "      <td>Hair Oil &amp; Serum</td>\n",
       "      <td>4.1</td>\n",
       "      <td>This Product contains Garlic Oil that is known...</td>\n",
       "    </tr>\n",
       "    <tr>\n",
       "      <th>1</th>\n",
       "      <td>Water Bottle - Orange</td>\n",
       "      <td>Kitchen, Garden &amp; Pets</td>\n",
       "      <td>Storage &amp; Accessories</td>\n",
       "      <td>Mastercook</td>\n",
       "      <td>180.00</td>\n",
       "      <td>180.0</td>\n",
       "      <td>Water &amp; Fridge Bottles</td>\n",
       "      <td>2.3</td>\n",
       "      <td>Each product is microwave safe (without lid), ...</td>\n",
       "    </tr>\n",
       "    <tr>\n",
       "      <th>2</th>\n",
       "      <td>Brass Angle Deep - Plain, No.2</td>\n",
       "      <td>Cleaning &amp; Household</td>\n",
       "      <td>Pooja Needs</td>\n",
       "      <td>Trm</td>\n",
       "      <td>119.00</td>\n",
       "      <td>250.0</td>\n",
       "      <td>Lamp &amp; Lamp Oil</td>\n",
       "      <td>3.4</td>\n",
       "      <td>A perfect gift for all occasions, be it your m...</td>\n",
       "    </tr>\n",
       "    <tr>\n",
       "      <th>3</th>\n",
       "      <td>Cereal Flip Lid Container/Storage Jar - Assort...</td>\n",
       "      <td>Cleaning &amp; Household</td>\n",
       "      <td>Bins &amp; Bathroom Ware</td>\n",
       "      <td>Nakoda</td>\n",
       "      <td>149.00</td>\n",
       "      <td>176.0</td>\n",
       "      <td>Laundry, Storage Baskets</td>\n",
       "      <td>3.7</td>\n",
       "      <td>Multipurpose container with an attractive desi...</td>\n",
       "    </tr>\n",
       "    <tr>\n",
       "      <th>4</th>\n",
       "      <td>Creme Soft Soap - For Hands &amp; Body</td>\n",
       "      <td>Beauty &amp; Hygiene</td>\n",
       "      <td>Bath &amp; Hand Wash</td>\n",
       "      <td>Nivea</td>\n",
       "      <td>162.00</td>\n",
       "      <td>162.0</td>\n",
       "      <td>Bathing Bars &amp; Soaps</td>\n",
       "      <td>4.4</td>\n",
       "      <td>Nivea Creme Soft Soap gives your skin the best...</td>\n",
       "    </tr>\n",
       "    <tr>\n",
       "      <th>...</th>\n",
       "      <td>...</td>\n",
       "      <td>...</td>\n",
       "      <td>...</td>\n",
       "      <td>...</td>\n",
       "      <td>...</td>\n",
       "      <td>...</td>\n",
       "      <td>...</td>\n",
       "      <td>...</td>\n",
       "      <td>...</td>\n",
       "    </tr>\n",
       "    <tr>\n",
       "      <th>27550</th>\n",
       "      <td>Wottagirl! Perfume Spray - Heaven, Classic</td>\n",
       "      <td>Beauty &amp; Hygiene</td>\n",
       "      <td>Fragrances &amp; Deos</td>\n",
       "      <td>Layerr</td>\n",
       "      <td>199.20</td>\n",
       "      <td>249.0</td>\n",
       "      <td>Perfume</td>\n",
       "      <td>3.9</td>\n",
       "      <td>Layerr brings you Wottagirl Classic fragrant b...</td>\n",
       "    </tr>\n",
       "    <tr>\n",
       "      <th>27551</th>\n",
       "      <td>Rosemary</td>\n",
       "      <td>Gourmet &amp; World Food</td>\n",
       "      <td>Cooking &amp; Baking Needs</td>\n",
       "      <td>Puramate</td>\n",
       "      <td>67.50</td>\n",
       "      <td>75.0</td>\n",
       "      <td>Herbs, Seasonings &amp; Rubs</td>\n",
       "      <td>4.0</td>\n",
       "      <td>Puramate rosemary is enough to transform a dis...</td>\n",
       "    </tr>\n",
       "    <tr>\n",
       "      <th>27552</th>\n",
       "      <td>Peri-Peri Sweet Potato Chips</td>\n",
       "      <td>Gourmet &amp; World Food</td>\n",
       "      <td>Snacks, Dry Fruits, Nuts</td>\n",
       "      <td>FabBox</td>\n",
       "      <td>200.00</td>\n",
       "      <td>200.0</td>\n",
       "      <td>Nachos &amp; Chips</td>\n",
       "      <td>3.8</td>\n",
       "      <td>We have taken the richness of Sweet Potatoes (...</td>\n",
       "    </tr>\n",
       "    <tr>\n",
       "      <th>27553</th>\n",
       "      <td>Green Tea - Pure Original</td>\n",
       "      <td>Beverages</td>\n",
       "      <td>Tea</td>\n",
       "      <td>Tetley</td>\n",
       "      <td>396.00</td>\n",
       "      <td>495.0</td>\n",
       "      <td>Tea Bags</td>\n",
       "      <td>4.2</td>\n",
       "      <td>Tetley Green Tea with its refreshing pure, ori...</td>\n",
       "    </tr>\n",
       "    <tr>\n",
       "      <th>27554</th>\n",
       "      <td>United Dreams Go Far Deodorant</td>\n",
       "      <td>Beauty &amp; Hygiene</td>\n",
       "      <td>Men's Grooming</td>\n",
       "      <td>United Colors Of Benetton</td>\n",
       "      <td>214.53</td>\n",
       "      <td>390.0</td>\n",
       "      <td>Men's Deodorants</td>\n",
       "      <td>4.5</td>\n",
       "      <td>The new mens fragrance from the United Dreams ...</td>\n",
       "    </tr>\n",
       "  </tbody>\n",
       "</table>\n",
       "<p>27555 rows × 9 columns</p>\n",
       "</div>"
      ],
      "text/plain": [
       "                                                 product  \\\n",
       "0                 Garlic Oil - Vegetarian Capsule 500 mg   \n",
       "1                                  Water Bottle - Orange   \n",
       "2                         Brass Angle Deep - Plain, No.2   \n",
       "3      Cereal Flip Lid Container/Storage Jar - Assort...   \n",
       "4                     Creme Soft Soap - For Hands & Body   \n",
       "...                                                  ...   \n",
       "27550         Wottagirl! Perfume Spray - Heaven, Classic   \n",
       "27551                                           Rosemary   \n",
       "27552                       Peri-Peri Sweet Potato Chips   \n",
       "27553                          Green Tea - Pure Original   \n",
       "27554                     United Dreams Go Far Deodorant   \n",
       "\n",
       "                     category              sub_category  \\\n",
       "0            Beauty & Hygiene                 Hair Care   \n",
       "1      Kitchen, Garden & Pets     Storage & Accessories   \n",
       "2        Cleaning & Household               Pooja Needs   \n",
       "3        Cleaning & Household      Bins & Bathroom Ware   \n",
       "4            Beauty & Hygiene          Bath & Hand Wash   \n",
       "...                       ...                       ...   \n",
       "27550        Beauty & Hygiene         Fragrances & Deos   \n",
       "27551    Gourmet & World Food    Cooking & Baking Needs   \n",
       "27552    Gourmet & World Food  Snacks, Dry Fruits, Nuts   \n",
       "27553               Beverages                       Tea   \n",
       "27554        Beauty & Hygiene            Men's Grooming   \n",
       "\n",
       "                            brand  sale_price  market_price  \\\n",
       "0               Sri Sri Ayurveda       220.00         220.0   \n",
       "1                      Mastercook      180.00         180.0   \n",
       "2                             Trm      119.00         250.0   \n",
       "3                          Nakoda      149.00         176.0   \n",
       "4                           Nivea      162.00         162.0   \n",
       "...                           ...         ...           ...   \n",
       "27550                      Layerr      199.20         249.0   \n",
       "27551                    Puramate       67.50          75.0   \n",
       "27552                      FabBox      200.00         200.0   \n",
       "27553                      Tetley      396.00         495.0   \n",
       "27554  United Colors Of Benetton       214.53         390.0   \n",
       "\n",
       "                           type  rating  \\\n",
       "0              Hair Oil & Serum     4.1   \n",
       "1        Water & Fridge Bottles     2.3   \n",
       "2               Lamp & Lamp Oil     3.4   \n",
       "3      Laundry, Storage Baskets     3.7   \n",
       "4          Bathing Bars & Soaps     4.4   \n",
       "...                         ...     ...   \n",
       "27550                   Perfume     3.9   \n",
       "27551  Herbs, Seasonings & Rubs     4.0   \n",
       "27552            Nachos & Chips     3.8   \n",
       "27553                  Tea Bags     4.2   \n",
       "27554          Men's Deodorants     4.5   \n",
       "\n",
       "                                             description  \n",
       "0      This Product contains Garlic Oil that is known...  \n",
       "1      Each product is microwave safe (without lid), ...  \n",
       "2      A perfect gift for all occasions, be it your m...  \n",
       "3      Multipurpose container with an attractive desi...  \n",
       "4      Nivea Creme Soft Soap gives your skin the best...  \n",
       "...                                                  ...  \n",
       "27550  Layerr brings you Wottagirl Classic fragrant b...  \n",
       "27551  Puramate rosemary is enough to transform a dis...  \n",
       "27552  We have taken the richness of Sweet Potatoes (...  \n",
       "27553  Tetley Green Tea with its refreshing pure, ori...  \n",
       "27554  The new mens fragrance from the United Dreams ...  \n",
       "\n",
       "[27555 rows x 9 columns]"
      ]
     },
     "execution_count": 39,
     "metadata": {},
     "output_type": "execute_result"
    }
   ],
   "source": [
    "df"
   ]
  },
  {
   "cell_type": "code",
   "execution_count": 40,
   "id": "71e469bc",
   "metadata": {},
   "outputs": [
    {
     "data": {
      "text/plain": [
       "<Axes: >"
      ]
     },
     "execution_count": 40,
     "metadata": {},
     "output_type": "execute_result"
    },
    {
     "data": {
      "image/png": "[encoded data removed]",
      "text/plain": [
       "<Figure size 640x480 with 1 Axes>"
      ]
     },
     "metadata": {},
     "output_type": "display_data"
    }
   ],
   "source": [
    "# Checking whether outliers have been dealt with and checking if their are any outliers remaining the df.sale_price\n",
    "\n",
    "sns.boxplot(df.sale_price)"
   ]
  },
  {
   "cell_type": "markdown",
   "id": "864cfe17",
   "metadata": {},
   "source": [
    "# Data Visualizations "
   ]
  },
  {
   "cell_type": "code",
   "execution_count": 41,
   "id": "e205ec55",
   "metadata": {},
   "outputs": [
    {
     "data": {
      "text/html": [
       "<div>\n",
       "<style scoped>\n",
       "    .dataframe tbody tr th:only-of-type {\n",
       "        vertical-align: middle;\n",
       "    }\n",
       "\n",
       "    .dataframe tbody tr th {\n",
       "        vertical-align: top;\n",
       "    }\n",
       "\n",
       "    .dataframe thead th {\n",
       "        text-align: right;\n",
       "    }\n",
       "</style>\n",
       "<table border=\"1\" class=\"dataframe\">\n",
       "  <thead>\n",
       "    <tr style=\"text-align: right;\">\n",
       "      <th></th>\n",
       "      <th>product</th>\n",
       "      <th>category</th>\n",
       "      <th>sub_category</th>\n",
       "      <th>brand</th>\n",
       "      <th>sale_price</th>\n",
       "      <th>market_price</th>\n",
       "      <th>type</th>\n",
       "      <th>rating</th>\n",
       "      <th>description</th>\n",
       "    </tr>\n",
       "  </thead>\n",
       "  <tbody>\n",
       "    <tr>\n",
       "      <th>0</th>\n",
       "      <td>Garlic Oil - Vegetarian Capsule 500 mg</td>\n",
       "      <td>Beauty &amp; Hygiene</td>\n",
       "      <td>Hair Care</td>\n",
       "      <td>Sri Sri Ayurveda</td>\n",
       "      <td>220.00</td>\n",
       "      <td>220.0</td>\n",
       "      <td>Hair Oil &amp; Serum</td>\n",
       "      <td>4.1</td>\n",
       "      <td>This Product contains Garlic Oil that is known...</td>\n",
       "    </tr>\n",
       "    <tr>\n",
       "      <th>1</th>\n",
       "      <td>Water Bottle - Orange</td>\n",
       "      <td>Kitchen, Garden &amp; Pets</td>\n",
       "      <td>Storage &amp; Accessories</td>\n",
       "      <td>Mastercook</td>\n",
       "      <td>180.00</td>\n",
       "      <td>180.0</td>\n",
       "      <td>Water &amp; Fridge Bottles</td>\n",
       "      <td>2.3</td>\n",
       "      <td>Each product is microwave safe (without lid), ...</td>\n",
       "    </tr>\n",
       "    <tr>\n",
       "      <th>2</th>\n",
       "      <td>Brass Angle Deep - Plain, No.2</td>\n",
       "      <td>Cleaning &amp; Household</td>\n",
       "      <td>Pooja Needs</td>\n",
       "      <td>Trm</td>\n",
       "      <td>119.00</td>\n",
       "      <td>250.0</td>\n",
       "      <td>Lamp &amp; Lamp Oil</td>\n",
       "      <td>3.4</td>\n",
       "      <td>A perfect gift for all occasions, be it your m...</td>\n",
       "    </tr>\n",
       "    <tr>\n",
       "      <th>3</th>\n",
       "      <td>Cereal Flip Lid Container/Storage Jar - Assort...</td>\n",
       "      <td>Cleaning &amp; Household</td>\n",
       "      <td>Bins &amp; Bathroom Ware</td>\n",
       "      <td>Nakoda</td>\n",
       "      <td>149.00</td>\n",
       "      <td>176.0</td>\n",
       "      <td>Laundry, Storage Baskets</td>\n",
       "      <td>3.7</td>\n",
       "      <td>Multipurpose container with an attractive desi...</td>\n",
       "    </tr>\n",
       "    <tr>\n",
       "      <th>4</th>\n",
       "      <td>Creme Soft Soap - For Hands &amp; Body</td>\n",
       "      <td>Beauty &amp; Hygiene</td>\n",
       "      <td>Bath &amp; Hand Wash</td>\n",
       "      <td>Nivea</td>\n",
       "      <td>162.00</td>\n",
       "      <td>162.0</td>\n",
       "      <td>Bathing Bars &amp; Soaps</td>\n",
       "      <td>4.4</td>\n",
       "      <td>Nivea Creme Soft Soap gives your skin the best...</td>\n",
       "    </tr>\n",
       "    <tr>\n",
       "      <th>...</th>\n",
       "      <td>...</td>\n",
       "      <td>...</td>\n",
       "      <td>...</td>\n",
       "      <td>...</td>\n",
       "      <td>...</td>\n",
       "      <td>...</td>\n",
       "      <td>...</td>\n",
       "      <td>...</td>\n",
       "      <td>...</td>\n",
       "    </tr>\n",
       "    <tr>\n",
       "      <th>27550</th>\n",
       "      <td>Wottagirl! Perfume Spray - Heaven, Classic</td>\n",
       "      <td>Beauty &amp; Hygiene</td>\n",
       "      <td>Fragrances &amp; Deos</td>\n",
       "      <td>Layerr</td>\n",
       "      <td>199.20</td>\n",
       "      <td>249.0</td>\n",
       "      <td>Perfume</td>\n",
       "      <td>3.9</td>\n",
       "      <td>Layerr brings you Wottagirl Classic fragrant b...</td>\n",
       "    </tr>\n",
       "    <tr>\n",
       "      <th>27551</th>\n",
       "      <td>Rosemary</td>\n",
       "      <td>Gourmet &amp; World Food</td>\n",
       "      <td>Cooking &amp; Baking Needs</td>\n",
       "      <td>Puramate</td>\n",
       "      <td>67.50</td>\n",
       "      <td>75.0</td>\n",
       "      <td>Herbs, Seasonings &amp; Rubs</td>\n",
       "      <td>4.0</td>\n",
       "      <td>Puramate rosemary is enough to transform a dis...</td>\n",
       "    </tr>\n",
       "    <tr>\n",
       "      <th>27552</th>\n",
       "      <td>Peri-Peri Sweet Potato Chips</td>\n",
       "      <td>Gourmet &amp; World Food</td>\n",
       "      <td>Snacks, Dry Fruits, Nuts</td>\n",
       "      <td>FabBox</td>\n",
       "      <td>200.00</td>\n",
       "      <td>200.0</td>\n",
       "      <td>Nachos &amp; Chips</td>\n",
       "      <td>3.8</td>\n",
       "      <td>We have taken the richness of Sweet Potatoes (...</td>\n",
       "    </tr>\n",
       "    <tr>\n",
       "      <th>27553</th>\n",
       "      <td>Green Tea - Pure Original</td>\n",
       "      <td>Beverages</td>\n",
       "      <td>Tea</td>\n",
       "      <td>Tetley</td>\n",
       "      <td>396.00</td>\n",
       "      <td>495.0</td>\n",
       "      <td>Tea Bags</td>\n",
       "      <td>4.2</td>\n",
       "      <td>Tetley Green Tea with its refreshing pure, ori...</td>\n",
       "    </tr>\n",
       "    <tr>\n",
       "      <th>27554</th>\n",
       "      <td>United Dreams Go Far Deodorant</td>\n",
       "      <td>Beauty &amp; Hygiene</td>\n",
       "      <td>Men's Grooming</td>\n",
       "      <td>United Colors Of Benetton</td>\n",
       "      <td>214.53</td>\n",
       "      <td>390.0</td>\n",
       "      <td>Men's Deodorants</td>\n",
       "      <td>4.5</td>\n",
       "      <td>The new mens fragrance from the United Dreams ...</td>\n",
       "    </tr>\n",
       "  </tbody>\n",
       "</table>\n",
       "<p>27555 rows × 9 columns</p>\n",
       "</div>"
      ],
      "text/plain": [
       "                                                 product  \\\n",
       "0                 Garlic Oil - Vegetarian Capsule 500 mg   \n",
       "1                                  Water Bottle - Orange   \n",
       "2                         Brass Angle Deep - Plain, No.2   \n",
       "3      Cereal Flip Lid Container/Storage Jar - Assort...   \n",
       "4                     Creme Soft Soap - For Hands & Body   \n",
       "...                                                  ...   \n",
       "27550         Wottagirl! Perfume Spray - Heaven, Classic   \n",
       "27551                                           Rosemary   \n",
       "27552                       Peri-Peri Sweet Potato Chips   \n",
       "27553                          Green Tea - Pure Original   \n",
       "27554                     United Dreams Go Far Deodorant   \n",
       "\n",
       "                     category              sub_category  \\\n",
       "0            Beauty & Hygiene                 Hair Care   \n",
       "1      Kitchen, Garden & Pets     Storage & Accessories   \n",
       "2        Cleaning & Household               Pooja Needs   \n",
       "3        Cleaning & Household      Bins & Bathroom Ware   \n",
       "4            Beauty & Hygiene          Bath & Hand Wash   \n",
       "...                       ...                       ...   \n",
       "27550        Beauty & Hygiene         Fragrances & Deos   \n",
       "27551    Gourmet & World Food    Cooking & Baking Needs   \n",
       "27552    Gourmet & World Food  Snacks, Dry Fruits, Nuts   \n",
       "27553               Beverages                       Tea   \n",
       "27554        Beauty & Hygiene            Men's Grooming   \n",
       "\n",
       "                            brand  sale_price  market_price  \\\n",
       "0               Sri Sri Ayurveda       220.00         220.0   \n",
       "1                      Mastercook      180.00         180.0   \n",
       "2                             Trm      119.00         250.0   \n",
       "3                          Nakoda      149.00         176.0   \n",
       "4                           Nivea      162.00         162.0   \n",
       "...                           ...         ...           ...   \n",
       "27550                      Layerr      199.20         249.0   \n",
       "27551                    Puramate       67.50          75.0   \n",
       "27552                      FabBox      200.00         200.0   \n",
       "27553                      Tetley      396.00         495.0   \n",
       "27554  United Colors Of Benetton       214.53         390.0   \n",
       "\n",
       "                           type  rating  \\\n",
       "0              Hair Oil & Serum     4.1   \n",
       "1        Water & Fridge Bottles     2.3   \n",
       "2               Lamp & Lamp Oil     3.4   \n",
       "3      Laundry, Storage Baskets     3.7   \n",
       "4          Bathing Bars & Soaps     4.4   \n",
       "...                         ...     ...   \n",
       "27550                   Perfume     3.9   \n",
       "27551  Herbs, Seasonings & Rubs     4.0   \n",
       "27552            Nachos & Chips     3.8   \n",
       "27553                  Tea Bags     4.2   \n",
       "27554          Men's Deodorants     4.5   \n",
       "\n",
       "                                             description  \n",
       "0      This Product contains Garlic Oil that is known...  \n",
       "1      Each product is microwave safe (without lid), ...  \n",
       "2      A perfect gift for all occasions, be it your m...  \n",
       "3      Multipurpose container with an attractive desi...  \n",
       "4      Nivea Creme Soft Soap gives your skin the best...  \n",
       "...                                                  ...  \n",
       "27550  Layerr brings you Wottagirl Classic fragrant b...  \n",
       "27551  Puramate rosemary is enough to transform a dis...  \n",
       "27552  We have taken the richness of Sweet Potatoes (...  \n",
       "27553  Tetley Green Tea with its refreshing pure, ori...  \n",
       "27554  The new mens fragrance from the United Dreams ...  \n",
       "\n",
       "[27555 rows x 9 columns]"
      ]
     },
     "execution_count": 41,
     "metadata": {},
     "output_type": "execute_result"
    }
   ],
   "source": [
    "df"
   ]
  },
  {
   "cell_type": "markdown",
   "id": "f683169d",
   "metadata": {},
   "source": [
    "## Analysing categories, sub categories on behalf of number of products in each category"
   ]
  },
  {
   "cell_type": "code",
   "execution_count": 42,
   "id": "c0990624",
   "metadata": {},
   "outputs": [
    {
     "data": {
      "text/plain": [
       "category\n",
       "Beauty & Hygiene            7867\n",
       "Gourmet & World Food        4690\n",
       "Kitchen, Garden & Pets      3580\n",
       "Snacks & Branded Foods      2814\n",
       "Foodgrains, Oil & Masala    2676\n",
       "Cleaning & Household        2675\n",
       "Beverages                    885\n",
       "Bakery, Cakes & Dairy        851\n",
       "Baby Care                    610\n",
       "Fruits & Vegetables          557\n",
       "Eggs, Meat & Fish            350\n",
       "Name: count, dtype: int64"
      ]
     },
     "execution_count": 42,
     "metadata": {},
     "output_type": "execute_result"
    }
   ],
   "source": [
    "df.category.value_counts().sort_values(ascending=False)"
   ]
  },
  {
   "cell_type": "code",
   "execution_count": 43,
   "id": "e6cf4ec2",
   "metadata": {},
   "outputs": [
    {
     "data": {
      "text/plain": [
       "<Axes: xlabel='count', ylabel='category'>"
      ]
     },
     "execution_count": 43,
     "metadata": {},
     "output_type": "execute_result"
    },
    {
     "data": {
      "image/png": "[encoded data removed]",
      "text/plain": [
       "<Figure size 640x480 with 1 Axes>"
      ]
     },
     "metadata": {},
     "output_type": "display_data"
    }
   ],
   "source": [
    "sns.countplot(y=df.category)"
   ]
  },
  {
   "cell_type": "markdown",
   "id": "52ed8989",
   "metadata": {},
   "source": [
    "## Analyzing the best-selling category, specifically Beauty & Hygiene."
   ]
  },
  {
   "cell_type": "code",
   "execution_count": 44,
   "id": "23b527f4",
   "metadata": {},
   "outputs": [
    {
     "data": {
      "text/html": [
       "<div>\n",
       "<style scoped>\n",
       "    .dataframe tbody tr th:only-of-type {\n",
       "        vertical-align: middle;\n",
       "    }\n",
       "\n",
       "    .dataframe tbody tr th {\n",
       "        vertical-align: top;\n",
       "    }\n",
       "\n",
       "    .dataframe thead th {\n",
       "        text-align: right;\n",
       "    }\n",
       "</style>\n",
       "<table border=\"1\" class=\"dataframe\">\n",
       "  <thead>\n",
       "    <tr style=\"text-align: right;\">\n",
       "      <th></th>\n",
       "      <th>product</th>\n",
       "      <th>category</th>\n",
       "      <th>sub_category</th>\n",
       "      <th>brand</th>\n",
       "      <th>sale_price</th>\n",
       "      <th>market_price</th>\n",
       "      <th>type</th>\n",
       "      <th>rating</th>\n",
       "      <th>description</th>\n",
       "    </tr>\n",
       "  </thead>\n",
       "  <tbody>\n",
       "    <tr>\n",
       "      <th>0</th>\n",
       "      <td>Garlic Oil - Vegetarian Capsule 500 mg</td>\n",
       "      <td>Beauty &amp; Hygiene</td>\n",
       "      <td>Hair Care</td>\n",
       "      <td>Sri Sri Ayurveda</td>\n",
       "      <td>220.00</td>\n",
       "      <td>220.0</td>\n",
       "      <td>Hair Oil &amp; Serum</td>\n",
       "      <td>4.1</td>\n",
       "      <td>This Product contains Garlic Oil that is known...</td>\n",
       "    </tr>\n",
       "    <tr>\n",
       "      <th>4</th>\n",
       "      <td>Creme Soft Soap - For Hands &amp; Body</td>\n",
       "      <td>Beauty &amp; Hygiene</td>\n",
       "      <td>Bath &amp; Hand Wash</td>\n",
       "      <td>Nivea</td>\n",
       "      <td>162.00</td>\n",
       "      <td>162.0</td>\n",
       "      <td>Bathing Bars &amp; Soaps</td>\n",
       "      <td>4.4</td>\n",
       "      <td>Nivea Creme Soft Soap gives your skin the best...</td>\n",
       "    </tr>\n",
       "    <tr>\n",
       "      <th>6</th>\n",
       "      <td>Multani Mati</td>\n",
       "      <td>Beauty &amp; Hygiene</td>\n",
       "      <td>Skin Care</td>\n",
       "      <td>Satinance</td>\n",
       "      <td>58.00</td>\n",
       "      <td>58.0</td>\n",
       "      <td>Face Care</td>\n",
       "      <td>3.6</td>\n",
       "      <td>Satinance multani matti is an excellent skin t...</td>\n",
       "    </tr>\n",
       "    <tr>\n",
       "      <th>7</th>\n",
       "      <td>Hand Sanitizer - 70% Alcohol Base</td>\n",
       "      <td>Beauty &amp; Hygiene</td>\n",
       "      <td>Bath &amp; Hand Wash</td>\n",
       "      <td>Bionova</td>\n",
       "      <td>250.00</td>\n",
       "      <td>250.0</td>\n",
       "      <td>Hand Wash &amp; Sanitizers</td>\n",
       "      <td>4.0</td>\n",
       "      <td>70%Alcohol based is gentle of hand leaves skin...</td>\n",
       "    </tr>\n",
       "    <tr>\n",
       "      <th>8</th>\n",
       "      <td>Biotin &amp; Collagen Volumizing Hair Shampoo + Bi...</td>\n",
       "      <td>Beauty &amp; Hygiene</td>\n",
       "      <td>Hair Care</td>\n",
       "      <td>StBotanica</td>\n",
       "      <td>755.00</td>\n",
       "      <td>912.5</td>\n",
       "      <td>Shampoo &amp; Conditioner</td>\n",
       "      <td>3.5</td>\n",
       "      <td>An exclusive blend with Vitamin B7 Biotin, Hyd...</td>\n",
       "    </tr>\n",
       "    <tr>\n",
       "      <th>...</th>\n",
       "      <td>...</td>\n",
       "      <td>...</td>\n",
       "      <td>...</td>\n",
       "      <td>...</td>\n",
       "      <td>...</td>\n",
       "      <td>...</td>\n",
       "      <td>...</td>\n",
       "      <td>...</td>\n",
       "      <td>...</td>\n",
       "    </tr>\n",
       "    <tr>\n",
       "      <th>27541</th>\n",
       "      <td>Herbal Rose &amp; Apricot Walnut Facial Scrub</td>\n",
       "      <td>Beauty &amp; Hygiene</td>\n",
       "      <td>Skin Care</td>\n",
       "      <td>Khadi Natural</td>\n",
       "      <td>250.00</td>\n",
       "      <td>250.0</td>\n",
       "      <td>Face Care</td>\n",
       "      <td>4.4</td>\n",
       "      <td>Rose and apricot walnut face scrub helps in re...</td>\n",
       "    </tr>\n",
       "    <tr>\n",
       "      <th>27542</th>\n",
       "      <td>Embellish Skin Lightening Serum</td>\n",
       "      <td>Beauty &amp; Hygiene</td>\n",
       "      <td>Skin Care</td>\n",
       "      <td>Organic Harvest</td>\n",
       "      <td>755.00</td>\n",
       "      <td>912.5</td>\n",
       "      <td>Face Care</td>\n",
       "      <td>4.2</td>\n",
       "      <td>Achieve an everlasting illuminated skin by inc...</td>\n",
       "    </tr>\n",
       "    <tr>\n",
       "      <th>27548</th>\n",
       "      <td>Apple Cider Vinegar Shampoo</td>\n",
       "      <td>Beauty &amp; Hygiene</td>\n",
       "      <td>Hair Care</td>\n",
       "      <td>Morpheme Remedies</td>\n",
       "      <td>499.00</td>\n",
       "      <td>499.0</td>\n",
       "      <td>Shampoo &amp; Conditioner</td>\n",
       "      <td>5.0</td>\n",
       "      <td>Say no to dull, lifeless, dry and damaged hair...</td>\n",
       "    </tr>\n",
       "    <tr>\n",
       "      <th>27550</th>\n",
       "      <td>Wottagirl! Perfume Spray - Heaven, Classic</td>\n",
       "      <td>Beauty &amp; Hygiene</td>\n",
       "      <td>Fragrances &amp; Deos</td>\n",
       "      <td>Layerr</td>\n",
       "      <td>199.20</td>\n",
       "      <td>249.0</td>\n",
       "      <td>Perfume</td>\n",
       "      <td>3.9</td>\n",
       "      <td>Layerr brings you Wottagirl Classic fragrant b...</td>\n",
       "    </tr>\n",
       "    <tr>\n",
       "      <th>27554</th>\n",
       "      <td>United Dreams Go Far Deodorant</td>\n",
       "      <td>Beauty &amp; Hygiene</td>\n",
       "      <td>Men's Grooming</td>\n",
       "      <td>United Colors Of Benetton</td>\n",
       "      <td>214.53</td>\n",
       "      <td>390.0</td>\n",
       "      <td>Men's Deodorants</td>\n",
       "      <td>4.5</td>\n",
       "      <td>The new mens fragrance from the United Dreams ...</td>\n",
       "    </tr>\n",
       "  </tbody>\n",
       "</table>\n",
       "<p>7867 rows × 9 columns</p>\n",
       "</div>"
      ],
      "text/plain": [
       "                                                 product          category  \\\n",
       "0                 Garlic Oil - Vegetarian Capsule 500 mg  Beauty & Hygiene   \n",
       "4                     Creme Soft Soap - For Hands & Body  Beauty & Hygiene   \n",
       "6                                           Multani Mati  Beauty & Hygiene   \n",
       "7                      Hand Sanitizer - 70% Alcohol Base  Beauty & Hygiene   \n",
       "8      Biotin & Collagen Volumizing Hair Shampoo + Bi...  Beauty & Hygiene   \n",
       "...                                                  ...               ...   \n",
       "27541          Herbal Rose & Apricot Walnut Facial Scrub  Beauty & Hygiene   \n",
       "27542                    Embellish Skin Lightening Serum  Beauty & Hygiene   \n",
       "27548                        Apple Cider Vinegar Shampoo  Beauty & Hygiene   \n",
       "27550         Wottagirl! Perfume Spray - Heaven, Classic  Beauty & Hygiene   \n",
       "27554                     United Dreams Go Far Deodorant  Beauty & Hygiene   \n",
       "\n",
       "            sub_category                       brand  sale_price  \\\n",
       "0              Hair Care           Sri Sri Ayurveda       220.00   \n",
       "4       Bath & Hand Wash                       Nivea      162.00   \n",
       "6              Skin Care                   Satinance       58.00   \n",
       "7       Bath & Hand Wash                     Bionova      250.00   \n",
       "8              Hair Care                  StBotanica      755.00   \n",
       "...                  ...                         ...         ...   \n",
       "27541          Skin Care               Khadi Natural      250.00   \n",
       "27542          Skin Care             Organic Harvest      755.00   \n",
       "27548          Hair Care           Morpheme Remedies      499.00   \n",
       "27550  Fragrances & Deos                      Layerr      199.20   \n",
       "27554     Men's Grooming  United Colors Of Benetton       214.53   \n",
       "\n",
       "       market_price                    type  rating  \\\n",
       "0             220.0        Hair Oil & Serum     4.1   \n",
       "4             162.0    Bathing Bars & Soaps     4.4   \n",
       "6              58.0               Face Care     3.6   \n",
       "7             250.0  Hand Wash & Sanitizers     4.0   \n",
       "8             912.5   Shampoo & Conditioner     3.5   \n",
       "...             ...                     ...     ...   \n",
       "27541         250.0               Face Care     4.4   \n",
       "27542         912.5               Face Care     4.2   \n",
       "27548         499.0   Shampoo & Conditioner     5.0   \n",
       "27550         249.0                 Perfume     3.9   \n",
       "27554         390.0        Men's Deodorants     4.5   \n",
       "\n",
       "                                             description  \n",
       "0      This Product contains Garlic Oil that is known...  \n",
       "4      Nivea Creme Soft Soap gives your skin the best...  \n",
       "6      Satinance multani matti is an excellent skin t...  \n",
       "7      70%Alcohol based is gentle of hand leaves skin...  \n",
       "8      An exclusive blend with Vitamin B7 Biotin, Hyd...  \n",
       "...                                                  ...  \n",
       "27541  Rose and apricot walnut face scrub helps in re...  \n",
       "27542  Achieve an everlasting illuminated skin by inc...  \n",
       "27548  Say no to dull, lifeless, dry and damaged hair...  \n",
       "27550  Layerr brings you Wottagirl Classic fragrant b...  \n",
       "27554  The new mens fragrance from the United Dreams ...  \n",
       "\n",
       "[7867 rows x 9 columns]"
      ]
     },
     "execution_count": 44,
     "metadata": {},
     "output_type": "execute_result"
    }
   ],
   "source": [
    "# Checking for all \"Beauty & Hygiene\" data present in category column in the Dataset.\n",
    "\n",
    "df[df.category==\"Beauty & Hygiene\"]"
   ]
  },
  {
   "cell_type": "code",
   "execution_count": 45,
   "id": "6e2f6433",
   "metadata": {},
   "outputs": [
    {
     "data": {
      "text/plain": [
       "sub_category\n",
       "Skin Care              2294\n",
       "Health & Medicine      1133\n",
       "Hair Care              1028\n",
       "Fragrances & Deos      1000\n",
       "Bath & Hand Wash        996\n",
       "Men's Grooming          805\n",
       "Feminine Hygiene        285\n",
       "Oral Care               271\n",
       "Makeup                   48\n",
       "Mothers & Maternity       7\n",
       "Name: count, dtype: int64"
      ]
     },
     "execution_count": 45,
     "metadata": {},
     "output_type": "execute_result"
    }
   ],
   "source": [
    "df[df.category==\"Beauty & Hygiene\"].sub_category.value_counts()"
   ]
  },
  {
   "cell_type": "code",
   "execution_count": 46,
   "id": "9d1c943d",
   "metadata": {},
   "outputs": [
    {
     "data": {
      "text/plain": [
       "brand\n",
       "INATUR          146\n",
       "Nike            124\n",
       "BIOTIQUE        115\n",
       "Aroma Magic     109\n",
       "Himalaya        107\n",
       "               ... \n",
       "Clear             1\n",
       "Aeres             1\n",
       "Everteen          1\n",
       "MG Polyplast      1\n",
       "Muscleblaze       1\n",
       "Name: count, Length: 644, dtype: int64"
      ]
     },
     "execution_count": 46,
     "metadata": {},
     "output_type": "execute_result"
    }
   ],
   "source": [
    "df[df.category==\"Beauty & Hygiene\"].brand.value_counts()"
   ]
  },
  {
   "cell_type": "code",
   "execution_count": 47,
   "id": "6ee5a2e8",
   "metadata": {},
   "outputs": [],
   "source": [
    "# Selecting the top 10 brands for better understanding of the data and also for convenience and clarity.\n",
    "\n",
    "top10bodycare_brand = df[df.category==\"Beauty & Hygiene\"].brand.value_counts().head(10)"
   ]
  },
  {
   "cell_type": "code",
   "execution_count": 48,
   "id": "a7538172",
   "metadata": {},
   "outputs": [
    {
     "data": {
      "text/plain": [
       "brand\n",
       "INATUR             146\n",
       "Nike               124\n",
       "BIOTIQUE           115\n",
       "Aroma Magic        109\n",
       "Himalaya           107\n",
       "Colgate            107\n",
       "Loreal Paris       104\n",
       "Dabur               95\n",
       "StBotanica          94\n",
       "Organic Harvest     90\n",
       "Name: count, dtype: int64"
      ]
     },
     "execution_count": 48,
     "metadata": {},
     "output_type": "execute_result"
    }
   ],
   "source": [
    "top10bodycare_brand"
   ]
  },
  {
   "cell_type": "code",
   "execution_count": 49,
   "id": "0b8461f6",
   "metadata": {},
   "outputs": [
    {
     "data": {
      "text/plain": [
       "([<matplotlib.patches.Wedge at 0x1556331ee90>,\n",
       "  <matplotlib.patches.Wedge at 0x1556359ef10>,\n",
       "  <matplotlib.patches.Wedge at 0x155635b4d50>,\n",
       "  <matplotlib.patches.Wedge at 0x155635b6810>,\n",
       "  <matplotlib.patches.Wedge at 0x155635c43d0>,\n",
       "  <matplotlib.patches.Wedge at 0x155635c6310>,\n",
       "  <matplotlib.patches.Wedge at 0x155635d0190>,\n",
       "  <matplotlib.patches.Wedge at 0x155635d1f50>,\n",
       "  <matplotlib.patches.Wedge at 0x155635c44d0>,\n",
       "  <matplotlib.patches.Wedge at 0x155635dd790>],\n",
       " [Text(1.0042116940940875, 0.44895308601755146, 'INATUR '),\n",
       "  Text(0.4007515756919476, 1.0244013737692963, 'Nike'),\n",
       "  Text(-0.3411235366624501, 1.0457699234224047, 'BIOTIQUE'),\n",
       "  Text(-0.9013195712705764, 0.6305735725865973, 'Aroma Magic '),\n",
       "  Text(-1.0999270314405998, -0.012669866071501515, 'Himalaya'),\n",
       "  Text(-0.8902908497072017, -0.6460512386240189, 'Colgate'),\n",
       "  Text(-0.3621321022297797, -1.038682020896983, 'Loreal Paris'),\n",
       "  Text(0.25886848478626745, -1.0691057513569284, 'Dabur'),\n",
       "  Text(0.7750127789970246, -0.7806120626734571, 'StBotanica'),\n",
       "  Text(1.0632662261288497, -0.2818952507115259, 'Organic Harvest')],\n",
       " [Text(0.5477518331422295, 0.24488350146411894, '13.4%'),\n",
       "  Text(0.21859176855924412, 0.5587643856923433, '11.4%'),\n",
       "  Text(-0.1860673836340637, 0.5704199582304025, '10.5%'),\n",
       "  Text(-0.4916288570566779, 0.34394922141087125, '10.0%'),\n",
       "  Text(-0.5999601989675999, -0.006910836039000825, '9.8%'),\n",
       "  Text(-0.4856131907493827, -0.3523915847040103, '9.8%'),\n",
       "  Text(-0.19752660121624346, -0.5665538295801724, '9.5%'),\n",
       "  Text(0.14120099170160041, -0.5831485916492336, '8.7%'),\n",
       "  Text(0.42273424308928614, -0.4257883978218856, '8.6%'),\n",
       "  Text(0.5799633960702816, -0.15376104584265046, '8.2%')])"
      ]
     },
     "execution_count": 49,
     "metadata": {},
     "output_type": "execute_result"
    },
    {
     "data": {
      "image/png": "[encoded data removed]",
      "text/plain": [
       "<Figure size 640x480 with 1 Axes>"
      ]
     },
     "metadata": {},
     "output_type": "display_data"
    }
   ],
   "source": [
    "# Create a Pie Charts for better visualizations of the data.\n",
    "\n",
    "plt.pie(top10bodycare_brand, labels=top10bodycare_brand.index,autopct=\"%1.1f%%\")"
   ]
  },
  {
   "cell_type": "markdown",
   "id": "b079104b",
   "metadata": {},
   "source": [
    "## Analyzing the second most stocked category i.e Gourmet & World Food."
   ]
  },
  {
   "cell_type": "code",
   "execution_count": 50,
   "id": "cfdbfdd4",
   "metadata": {},
   "outputs": [
    {
     "data": {
      "text/html": [
       "<div>\n",
       "<style scoped>\n",
       "    .dataframe tbody tr th:only-of-type {\n",
       "        vertical-align: middle;\n",
       "    }\n",
       "\n",
       "    .dataframe tbody tr th {\n",
       "        vertical-align: top;\n",
       "    }\n",
       "\n",
       "    .dataframe thead th {\n",
       "        text-align: right;\n",
       "    }\n",
       "</style>\n",
       "<table border=\"1\" class=\"dataframe\">\n",
       "  <thead>\n",
       "    <tr style=\"text-align: right;\">\n",
       "      <th></th>\n",
       "      <th>product</th>\n",
       "      <th>category</th>\n",
       "      <th>sub_category</th>\n",
       "      <th>brand</th>\n",
       "      <th>sale_price</th>\n",
       "      <th>market_price</th>\n",
       "      <th>type</th>\n",
       "      <th>rating</th>\n",
       "      <th>description</th>\n",
       "    </tr>\n",
       "  </thead>\n",
       "  <tbody>\n",
       "    <tr>\n",
       "      <th>10</th>\n",
       "      <td>Wheat Grass Powder - Raw</td>\n",
       "      <td>Gourmet &amp; World Food</td>\n",
       "      <td>Cooking &amp; Baking Needs</td>\n",
       "      <td>NUTRASHIL</td>\n",
       "      <td>261.00</td>\n",
       "      <td>290.0</td>\n",
       "      <td>Flours &amp; Pre-Mixes</td>\n",
       "      <td>4.0</td>\n",
       "      <td>Wheatgrass is a superfood potent health food w...</td>\n",
       "    </tr>\n",
       "    <tr>\n",
       "      <th>11</th>\n",
       "      <td>Butter Cookies Gold Collection</td>\n",
       "      <td>Gourmet &amp; World Food</td>\n",
       "      <td>Chocolates &amp; Biscuits</td>\n",
       "      <td>Sapphire</td>\n",
       "      <td>600.00</td>\n",
       "      <td>600.0</td>\n",
       "      <td>Luxury Chocolates, Gifts</td>\n",
       "      <td>2.2</td>\n",
       "      <td>Enjoy a tin full of delicious butter cookies m...</td>\n",
       "    </tr>\n",
       "    <tr>\n",
       "      <th>17</th>\n",
       "      <td>Salted Pumpkin</td>\n",
       "      <td>Gourmet &amp; World Food</td>\n",
       "      <td>Snacks, Dry Fruits, Nuts</td>\n",
       "      <td>Graminway</td>\n",
       "      <td>180.00</td>\n",
       "      <td>180.0</td>\n",
       "      <td>Roasted Seeds &amp; Nuts</td>\n",
       "      <td>4.9</td>\n",
       "      <td>Graminway Salted Pumpkin Seeds are the perfect...</td>\n",
       "    </tr>\n",
       "    <tr>\n",
       "      <th>18</th>\n",
       "      <td>Flax Seeds - Roasted</td>\n",
       "      <td>Gourmet &amp; World Food</td>\n",
       "      <td>Snacks, Dry Fruits, Nuts</td>\n",
       "      <td>True Elements</td>\n",
       "      <td>120.00</td>\n",
       "      <td>120.0</td>\n",
       "      <td>Roasted Seeds &amp; Nuts</td>\n",
       "      <td>4.3</td>\n",
       "      <td>True Elements brings to you Roasted Flax Seeds...</td>\n",
       "    </tr>\n",
       "    <tr>\n",
       "      <th>19</th>\n",
       "      <td>Organic Tofu - Soy Paneer</td>\n",
       "      <td>Gourmet &amp; World Food</td>\n",
       "      <td>Dairy &amp; Cheese</td>\n",
       "      <td>Murginns</td>\n",
       "      <td>85.14</td>\n",
       "      <td>90.0</td>\n",
       "      <td>Tofu</td>\n",
       "      <td>3.9</td>\n",
       "      <td>We at Wellness Foods, manufacture dairy and no...</td>\n",
       "    </tr>\n",
       "    <tr>\n",
       "      <th>...</th>\n",
       "      <td>...</td>\n",
       "      <td>...</td>\n",
       "      <td>...</td>\n",
       "      <td>...</td>\n",
       "      <td>...</td>\n",
       "      <td>...</td>\n",
       "      <td>...</td>\n",
       "      <td>...</td>\n",
       "      <td>...</td>\n",
       "    </tr>\n",
       "    <tr>\n",
       "      <th>27531</th>\n",
       "      <td>Vanilla Ice Cream</td>\n",
       "      <td>Gourmet &amp; World Food</td>\n",
       "      <td>Dairy &amp; Cheese</td>\n",
       "      <td>Haagen-Dazs</td>\n",
       "      <td>225.00</td>\n",
       "      <td>225.0</td>\n",
       "      <td>Gourmet Ice Cream</td>\n",
       "      <td>4.1</td>\n",
       "      <td>Some things are so good in their simplest form...</td>\n",
       "    </tr>\n",
       "    <tr>\n",
       "      <th>27534</th>\n",
       "      <td>Chia Quinoa Cookies</td>\n",
       "      <td>Gourmet &amp; World Food</td>\n",
       "      <td>Sauces, Spreads &amp; Dips</td>\n",
       "      <td>Prasukh</td>\n",
       "      <td>76.50</td>\n",
       "      <td>85.0</td>\n",
       "      <td>Jams, Marmalade, Spreads</td>\n",
       "      <td>3.3</td>\n",
       "      <td>The Energy Cookies get its name because they'r...</td>\n",
       "    </tr>\n",
       "    <tr>\n",
       "      <th>27543</th>\n",
       "      <td>Popcorn - French Butter &amp; Pink Salt</td>\n",
       "      <td>Gourmet &amp; World Food</td>\n",
       "      <td>Snacks, Dry Fruits, Nuts</td>\n",
       "      <td>4700BC</td>\n",
       "      <td>31.50</td>\n",
       "      <td>35.0</td>\n",
       "      <td>Gourmet Popcorn</td>\n",
       "      <td>4.1</td>\n",
       "      <td>High-quality mushroom corn popped in olive oil...</td>\n",
       "    </tr>\n",
       "    <tr>\n",
       "      <th>27551</th>\n",
       "      <td>Rosemary</td>\n",
       "      <td>Gourmet &amp; World Food</td>\n",
       "      <td>Cooking &amp; Baking Needs</td>\n",
       "      <td>Puramate</td>\n",
       "      <td>67.50</td>\n",
       "      <td>75.0</td>\n",
       "      <td>Herbs, Seasonings &amp; Rubs</td>\n",
       "      <td>4.0</td>\n",
       "      <td>Puramate rosemary is enough to transform a dis...</td>\n",
       "    </tr>\n",
       "    <tr>\n",
       "      <th>27552</th>\n",
       "      <td>Peri-Peri Sweet Potato Chips</td>\n",
       "      <td>Gourmet &amp; World Food</td>\n",
       "      <td>Snacks, Dry Fruits, Nuts</td>\n",
       "      <td>FabBox</td>\n",
       "      <td>200.00</td>\n",
       "      <td>200.0</td>\n",
       "      <td>Nachos &amp; Chips</td>\n",
       "      <td>3.8</td>\n",
       "      <td>We have taken the richness of Sweet Potatoes (...</td>\n",
       "    </tr>\n",
       "  </tbody>\n",
       "</table>\n",
       "<p>4690 rows × 9 columns</p>\n",
       "</div>"
      ],
      "text/plain": [
       "                                   product              category  \\\n",
       "10                Wheat Grass Powder - Raw  Gourmet & World Food   \n",
       "11          Butter Cookies Gold Collection  Gourmet & World Food   \n",
       "17                          Salted Pumpkin  Gourmet & World Food   \n",
       "18                    Flax Seeds - Roasted  Gourmet & World Food   \n",
       "19               Organic Tofu - Soy Paneer  Gourmet & World Food   \n",
       "...                                    ...                   ...   \n",
       "27531                    Vanilla Ice Cream  Gourmet & World Food   \n",
       "27534                  Chia Quinoa Cookies  Gourmet & World Food   \n",
       "27543  Popcorn - French Butter & Pink Salt  Gourmet & World Food   \n",
       "27551                             Rosemary  Gourmet & World Food   \n",
       "27552         Peri-Peri Sweet Potato Chips  Gourmet & World Food   \n",
       "\n",
       "                   sub_category          brand  sale_price  market_price  \\\n",
       "10       Cooking & Baking Needs      NUTRASHIL      261.00         290.0   \n",
       "11        Chocolates & Biscuits       Sapphire      600.00         600.0   \n",
       "17     Snacks, Dry Fruits, Nuts      Graminway      180.00         180.0   \n",
       "18     Snacks, Dry Fruits, Nuts  True Elements      120.00         120.0   \n",
       "19               Dairy & Cheese       Murginns       85.14          90.0   \n",
       "...                         ...            ...         ...           ...   \n",
       "27531            Dairy & Cheese    Haagen-Dazs      225.00         225.0   \n",
       "27534    Sauces, Spreads & Dips        Prasukh       76.50          85.0   \n",
       "27543  Snacks, Dry Fruits, Nuts         4700BC       31.50          35.0   \n",
       "27551    Cooking & Baking Needs       Puramate       67.50          75.0   \n",
       "27552  Snacks, Dry Fruits, Nuts         FabBox      200.00         200.0   \n",
       "\n",
       "                           type  rating  \\\n",
       "10           Flours & Pre-Mixes     4.0   \n",
       "11     Luxury Chocolates, Gifts     2.2   \n",
       "17         Roasted Seeds & Nuts     4.9   \n",
       "18         Roasted Seeds & Nuts     4.3   \n",
       "19                         Tofu     3.9   \n",
       "...                         ...     ...   \n",
       "27531         Gourmet Ice Cream     4.1   \n",
       "27534  Jams, Marmalade, Spreads     3.3   \n",
       "27543           Gourmet Popcorn     4.1   \n",
       "27551  Herbs, Seasonings & Rubs     4.0   \n",
       "27552            Nachos & Chips     3.8   \n",
       "\n",
       "                                             description  \n",
       "10     Wheatgrass is a superfood potent health food w...  \n",
       "11     Enjoy a tin full of delicious butter cookies m...  \n",
       "17     Graminway Salted Pumpkin Seeds are the perfect...  \n",
       "18     True Elements brings to you Roasted Flax Seeds...  \n",
       "19     We at Wellness Foods, manufacture dairy and no...  \n",
       "...                                                  ...  \n",
       "27531  Some things are so good in their simplest form...  \n",
       "27534  The Energy Cookies get its name because they'r...  \n",
       "27543  High-quality mushroom corn popped in olive oil...  \n",
       "27551  Puramate rosemary is enough to transform a dis...  \n",
       "27552  We have taken the richness of Sweet Potatoes (...  \n",
       "\n",
       "[4690 rows x 9 columns]"
      ]
     },
     "execution_count": 50,
     "metadata": {},
     "output_type": "execute_result"
    }
   ],
   "source": [
    "df[df.category=='Gourmet & World Food']"
   ]
  },
  {
   "cell_type": "code",
   "execution_count": 51,
   "id": "304c11ae",
   "metadata": {},
   "outputs": [],
   "source": [
    "# Dividing it into subcategories, assigning the variable name sub_cat_food for clarity\n",
    "# The purpose of this analysis is to examine which subcategories are more prominently stocked,\n",
    "# considering factors such as life cycle and sales trends.\n",
    "\n",
    "sub_cat_food = df[df.category=='Gourmet & World Food']"
   ]
  },
  {
   "cell_type": "code",
   "execution_count": 52,
   "id": "e0978be6",
   "metadata": {},
   "outputs": [
    {
     "data": {
      "text/plain": [
       "sub_category\n",
       "Snacks, Dry Fruits, Nuts    840\n",
       "Drinks & Beverages          736\n",
       "Cooking & Baking Needs      693\n",
       "Sauces, Spreads & Dips      667\n",
       "Chocolates & Biscuits       609\n",
       "Dairy & Cheese              253\n",
       "Pasta, Soup & Noodles       251\n",
       "Oils & Vinegar              239\n",
       "Cereals & Breakfast         204\n",
       "Tinned & Processed Food     168\n",
       "Bakery Snacks                14\n",
       "Atta, Flours & Sooji         12\n",
       "Rice & Rice Products          3\n",
       "Mutton & Lamb                 1\n",
       "Name: count, dtype: int64"
      ]
     },
     "execution_count": 52,
     "metadata": {},
     "output_type": "execute_result"
    }
   ],
   "source": [
    "# Checking for the frequency of each distinct row in Dataset in ascending order. \n",
    "\n",
    "sub_cat_food.sub_category.value_counts(ascending=False)"
   ]
  },
  {
   "cell_type": "code",
   "execution_count": 53,
   "id": "3ae2d838",
   "metadata": {},
   "outputs": [
    {
     "data": {
      "text/plain": [
       "<Axes: xlabel='count', ylabel='sub_category'>"
      ]
     },
     "execution_count": 53,
     "metadata": {},
     "output_type": "execute_result"
    },
    {
     "data": {
      "image/png": "[encoded data removed]",
      "text/plain": [
       "<Figure size 640x480 with 1 Axes>"
      ]
     },
     "metadata": {},
     "output_type": "display_data"
    }
   ],
   "source": [
    "# Creating a Count Plot using Seaborn.\n",
    "\n",
    "sns.countplot(y=sub_cat_food.sub_category)"
   ]
  },
  {
   "cell_type": "code",
   "execution_count": 54,
   "id": "b980f357",
   "metadata": {},
   "outputs": [
    {
     "data": {
      "text/plain": [
       "brand\n",
       "GoodDiet            97\n",
       "Puramate            84\n",
       "Nutty Yogi          79\n",
       "TGL Co.             76\n",
       "Fresho Signature    74\n",
       "                    ..\n",
       "Blv Fine Blend       1\n",
       "Grami Superfoods     1\n",
       "Quaker               1\n",
       "Kopiko               1\n",
       "Baron De Bercy       1\n",
       "Name: count, Length: 546, dtype: int64"
      ]
     },
     "execution_count": 54,
     "metadata": {},
     "output_type": "execute_result"
    }
   ],
   "source": [
    "sub_cat_food.brand.value_counts()"
   ]
  },
  {
   "cell_type": "code",
   "execution_count": 55,
   "id": "ab555748",
   "metadata": {},
   "outputs": [
    {
     "data": {
      "text/plain": [
       "brand\n",
       "GoodDiet            97\n",
       "Puramate            84\n",
       "Nutty Yogi          79\n",
       "TGL Co.             76\n",
       "Fresho Signature    74\n",
       "Name: count, dtype: int64"
      ]
     },
     "execution_count": 55,
     "metadata": {},
     "output_type": "execute_result"
    }
   ],
   "source": [
    "sub_cat_food.brand.value_counts().head()"
   ]
  },
  {
   "cell_type": "code",
   "execution_count": 56,
   "id": "42b812a9",
   "metadata": {},
   "outputs": [
    {
     "data": {
      "image/png": "[encoded data removed]",
      "text/plain": [
       "<Figure size 640x480 with 1 Axes>"
      ]
     },
     "metadata": {},
     "output_type": "display_data"
    }
   ],
   "source": [
    "plt.pie(sub_cat_food.brand.value_counts().head(),labels=sub_cat_food.brand.value_counts().head().index, autopct=\"%1.1f%%\")\n",
    "plt.show()"
   ]
  },
  {
   "cell_type": "markdown",
   "id": "f478146b",
   "metadata": {},
   "source": [
    "## Analyzing the least stocked category i.e Eggs, Meat & Fish."
   ]
  },
  {
   "cell_type": "code",
   "execution_count": 57,
   "id": "e97d786f",
   "metadata": {},
   "outputs": [
    {
     "data": {
      "text/html": [
       "<div>\n",
       "<style scoped>\n",
       "    .dataframe tbody tr th:only-of-type {\n",
       "        vertical-align: middle;\n",
       "    }\n",
       "\n",
       "    .dataframe tbody tr th {\n",
       "        vertical-align: top;\n",
       "    }\n",
       "\n",
       "    .dataframe thead th {\n",
       "        text-align: right;\n",
       "    }\n",
       "</style>\n",
       "<table border=\"1\" class=\"dataframe\">\n",
       "  <thead>\n",
       "    <tr style=\"text-align: right;\">\n",
       "      <th></th>\n",
       "      <th>product</th>\n",
       "      <th>category</th>\n",
       "      <th>sub_category</th>\n",
       "      <th>brand</th>\n",
       "      <th>sale_price</th>\n",
       "      <th>market_price</th>\n",
       "      <th>type</th>\n",
       "      <th>rating</th>\n",
       "      <th>description</th>\n",
       "    </tr>\n",
       "  </thead>\n",
       "  <tbody>\n",
       "    <tr>\n",
       "      <th>240</th>\n",
       "      <td>Fresh Catch Fish Fingers</td>\n",
       "      <td>Eggs, Meat &amp; Fish</td>\n",
       "      <td>Fish &amp; Seafood</td>\n",
       "      <td>Ifb</td>\n",
       "      <td>240.00</td>\n",
       "      <td>240.0</td>\n",
       "      <td>Frozen Fish &amp; Seafood</td>\n",
       "      <td>4.1</td>\n",
       "      <td>You can’t beat the classics. Perfectly crispy ...</td>\n",
       "    </tr>\n",
       "    <tr>\n",
       "      <th>260</th>\n",
       "      <td>Chicken Cocktail Sausage</td>\n",
       "      <td>Eggs, Meat &amp; Fish</td>\n",
       "      <td>Sausages, Bacon &amp; Salami</td>\n",
       "      <td>Fresho</td>\n",
       "      <td>171.60</td>\n",
       "      <td>220.0</td>\n",
       "      <td>Chicken Sausages</td>\n",
       "      <td>4.1</td>\n",
       "      <td>Chicken Cocktail Sausage is made with premium ...</td>\n",
       "    </tr>\n",
       "    <tr>\n",
       "      <th>293</th>\n",
       "      <td>Pork Classic Salami</td>\n",
       "      <td>Eggs, Meat &amp; Fish</td>\n",
       "      <td>Sausages, Bacon &amp; Salami</td>\n",
       "      <td>La Carne</td>\n",
       "      <td>191.25</td>\n",
       "      <td>225.0</td>\n",
       "      <td>Pork &amp; Ham</td>\n",
       "      <td>4.1</td>\n",
       "      <td>At La Carne, we take pride in offering product...</td>\n",
       "    </tr>\n",
       "    <tr>\n",
       "      <th>313</th>\n",
       "      <td>Pork - Fresh Bacon, Sliced</td>\n",
       "      <td>Eggs, Meat &amp; Fish</td>\n",
       "      <td>Sausages, Bacon &amp; Salami</td>\n",
       "      <td>Fresho Signature</td>\n",
       "      <td>360.00</td>\n",
       "      <td>400.0</td>\n",
       "      <td>Pork &amp; Ham</td>\n",
       "      <td>4.1</td>\n",
       "      <td>Casanova Bacon Sliced (Fresh) is a premium-qua...</td>\n",
       "    </tr>\n",
       "    <tr>\n",
       "      <th>317</th>\n",
       "      <td>Chicken Jalapeno Cheese Nuggets</td>\n",
       "      <td>Eggs, Meat &amp; Fish</td>\n",
       "      <td>Sausages, Bacon &amp; Salami</td>\n",
       "      <td>Meatzza</td>\n",
       "      <td>285.00</td>\n",
       "      <td>300.0</td>\n",
       "      <td>Chicken Sausages</td>\n",
       "      <td>4.1</td>\n",
       "      <td>Boneless chicken meat, formed, batter-coated &amp;...</td>\n",
       "    </tr>\n",
       "    <tr>\n",
       "      <th>...</th>\n",
       "      <td>...</td>\n",
       "      <td>...</td>\n",
       "      <td>...</td>\n",
       "      <td>...</td>\n",
       "      <td>...</td>\n",
       "      <td>...</td>\n",
       "      <td>...</td>\n",
       "      <td>...</td>\n",
       "      <td>...</td>\n",
       "    </tr>\n",
       "    <tr>\n",
       "      <th>27190</th>\n",
       "      <td>Fish - Nuggets</td>\n",
       "      <td>Eggs, Meat &amp; Fish</td>\n",
       "      <td>Fish &amp; Seafood</td>\n",
       "      <td>Seastar</td>\n",
       "      <td>168.00</td>\n",
       "      <td>210.0</td>\n",
       "      <td>Frozen Fish &amp; Seafood</td>\n",
       "      <td>4.1</td>\n",
       "      <td>Sea star frozen BASA FISH fillets, packed by u...</td>\n",
       "    </tr>\n",
       "    <tr>\n",
       "      <th>27293</th>\n",
       "      <td>Italian - Sausages Chicken</td>\n",
       "      <td>Eggs, Meat &amp; Fish</td>\n",
       "      <td>Sausages, Bacon &amp; Salami</td>\n",
       "      <td>Yummiez</td>\n",
       "      <td>150.00</td>\n",
       "      <td>160.0</td>\n",
       "      <td>Chicken Sausages</td>\n",
       "      <td>4.1</td>\n",
       "      <td>Now you can relish an Italian Breakfast everyd...</td>\n",
       "    </tr>\n",
       "    <tr>\n",
       "      <th>27356</th>\n",
       "      <td>Prawns Balchao Masala</td>\n",
       "      <td>Eggs, Meat &amp; Fish</td>\n",
       "      <td>Fish &amp; Seafood</td>\n",
       "      <td>Gadre</td>\n",
       "      <td>254.15</td>\n",
       "      <td>299.0</td>\n",
       "      <td>Frozen Fish &amp; Seafood</td>\n",
       "      <td>4.1</td>\n",
       "      <td>Prawns Balchao Masala is made with combining P...</td>\n",
       "    </tr>\n",
       "    <tr>\n",
       "      <th>27466</th>\n",
       "      <td>Chicken Seekh Kabab Punjabi</td>\n",
       "      <td>Eggs, Meat &amp; Fish</td>\n",
       "      <td>Sausages, Bacon &amp; Salami</td>\n",
       "      <td>Fresho</td>\n",
       "      <td>223.00</td>\n",
       "      <td>290.0</td>\n",
       "      <td>Chicken Sausages</td>\n",
       "      <td>4.1</td>\n",
       "      <td>Prepared in the traditional style, the kebabs ...</td>\n",
       "    </tr>\n",
       "    <tr>\n",
       "      <th>27469</th>\n",
       "      <td>Canned Skipjack Light Meat Tuna - Flakes In Brine</td>\n",
       "      <td>Eggs, Meat &amp; Fish</td>\n",
       "      <td>Fish &amp; Seafood</td>\n",
       "      <td>Golden Prize</td>\n",
       "      <td>149.00</td>\n",
       "      <td>149.0</td>\n",
       "      <td>Canned Seafood</td>\n",
       "      <td>4.1</td>\n",
       "      <td>Premium Quality Fish, Imported from Thailand, ...</td>\n",
       "    </tr>\n",
       "  </tbody>\n",
       "</table>\n",
       "<p>350 rows × 9 columns</p>\n",
       "</div>"
      ],
      "text/plain": [
       "                                                 product           category  \\\n",
       "240                             Fresh Catch Fish Fingers  Eggs, Meat & Fish   \n",
       "260                             Chicken Cocktail Sausage  Eggs, Meat & Fish   \n",
       "293                                  Pork Classic Salami  Eggs, Meat & Fish   \n",
       "313                           Pork - Fresh Bacon, Sliced  Eggs, Meat & Fish   \n",
       "317                      Chicken Jalapeno Cheese Nuggets  Eggs, Meat & Fish   \n",
       "...                                                  ...                ...   \n",
       "27190                                     Fish - Nuggets  Eggs, Meat & Fish   \n",
       "27293                         Italian - Sausages Chicken  Eggs, Meat & Fish   \n",
       "27356                              Prawns Balchao Masala  Eggs, Meat & Fish   \n",
       "27466                        Chicken Seekh Kabab Punjabi  Eggs, Meat & Fish   \n",
       "27469  Canned Skipjack Light Meat Tuna - Flakes In Brine  Eggs, Meat & Fish   \n",
       "\n",
       "                   sub_category             brand  sale_price  market_price  \\\n",
       "240              Fish & Seafood               Ifb      240.00         240.0   \n",
       "260    Sausages, Bacon & Salami            Fresho      171.60         220.0   \n",
       "293    Sausages, Bacon & Salami          La Carne      191.25         225.0   \n",
       "313    Sausages, Bacon & Salami  Fresho Signature      360.00         400.0   \n",
       "317    Sausages, Bacon & Salami           Meatzza      285.00         300.0   \n",
       "...                         ...               ...         ...           ...   \n",
       "27190            Fish & Seafood           Seastar      168.00         210.0   \n",
       "27293  Sausages, Bacon & Salami           Yummiez      150.00         160.0   \n",
       "27356            Fish & Seafood             Gadre      254.15         299.0   \n",
       "27466  Sausages, Bacon & Salami            Fresho      223.00         290.0   \n",
       "27469            Fish & Seafood      Golden Prize      149.00         149.0   \n",
       "\n",
       "                        type  rating  \\\n",
       "240    Frozen Fish & Seafood     4.1   \n",
       "260         Chicken Sausages     4.1   \n",
       "293               Pork & Ham     4.1   \n",
       "313               Pork & Ham     4.1   \n",
       "317         Chicken Sausages     4.1   \n",
       "...                      ...     ...   \n",
       "27190  Frozen Fish & Seafood     4.1   \n",
       "27293       Chicken Sausages     4.1   \n",
       "27356  Frozen Fish & Seafood     4.1   \n",
       "27466       Chicken Sausages     4.1   \n",
       "27469         Canned Seafood     4.1   \n",
       "\n",
       "                                             description  \n",
       "240    You can’t beat the classics. Perfectly crispy ...  \n",
       "260    Chicken Cocktail Sausage is made with premium ...  \n",
       "293    At La Carne, we take pride in offering product...  \n",
       "313    Casanova Bacon Sliced (Fresh) is a premium-qua...  \n",
       "317    Boneless chicken meat, formed, batter-coated &...  \n",
       "...                                                  ...  \n",
       "27190  Sea star frozen BASA FISH fillets, packed by u...  \n",
       "27293  Now you can relish an Italian Breakfast everyd...  \n",
       "27356  Prawns Balchao Masala is made with combining P...  \n",
       "27466  Prepared in the traditional style, the kebabs ...  \n",
       "27469  Premium Quality Fish, Imported from Thailand, ...  \n",
       "\n",
       "[350 rows x 9 columns]"
      ]
     },
     "execution_count": 57,
     "metadata": {},
     "output_type": "execute_result"
    }
   ],
   "source": [
    "df[df.category==\"Eggs, Meat & Fish\"]"
   ]
  },
  {
   "cell_type": "code",
   "execution_count": 58,
   "id": "cdd09de8",
   "metadata": {},
   "outputs": [
    {
     "data": {
      "text/plain": [
       "sub_category\n",
       "Sausages, Bacon & Salami    159\n",
       "Fish & Seafood              132\n",
       "Eggs                         34\n",
       "Mutton & Lamb                19\n",
       "Pork & Other Meats            5\n",
       "Marinades                     1\n",
       "Name: count, dtype: int64"
      ]
     },
     "execution_count": 58,
     "metadata": {},
     "output_type": "execute_result"
    }
   ],
   "source": [
    "df[df.category==\"Eggs, Meat & Fish\"].sub_category.value_counts()"
   ]
  },
  {
   "cell_type": "code",
   "execution_count": 59,
   "id": "1188e722",
   "metadata": {},
   "outputs": [
    {
     "data": {
      "text/plain": [
       "brand\n",
       "Fresho                 71\n",
       "Fresho Signature       31\n",
       "La Carne               28\n",
       "Golden Prize           19\n",
       "Meatzza                19\n",
       "Gadre                  14\n",
       "H.S. Dry Fish          13\n",
       "Seastar                12\n",
       "Quickee'S              11\n",
       "Ifb                    10\n",
       "Tasty Nibbles           9\n",
       "Big Sams                8\n",
       "Bon Appetit             8\n",
       "Tannys                  8\n",
       "ALF-FARMS               8\n",
       "Zorabian                7\n",
       "bb Combo                7\n",
       "Buffet                  7\n",
       "Mpm                     6\n",
       "Republic of Chicken     5\n",
       "Premier                 5\n",
       "ITC Master Chef         4\n",
       "Meisterwurst            3\n",
       "Farm Made               3\n",
       "Best                    3\n",
       "Prasuma                 3\n",
       "Blue Flame              3\n",
       "Britte                  3\n",
       "UPF                     3\n",
       "sumeru                  3\n",
       "Indofish                2\n",
       "CP EVERYDAY             2\n",
       "Ayur                    1\n",
       "Pure South              1\n",
       "Just Laid               1\n",
       "Ayur Egg                1\n",
       "Desi                    1\n",
       "Elicious                1\n",
       "Abbies                  1\n",
       "Happy Hens Farms        1\n",
       "Ayur Plus               1\n",
       "Hita Farms              1\n",
       "Saffa                   1\n",
       "Yummiez                 1\n",
       "Name: count, dtype: int64"
      ]
     },
     "execution_count": 59,
     "metadata": {},
     "output_type": "execute_result"
    }
   ],
   "source": [
    "df[df.category==\"Eggs, Meat & Fish\"].brand.value_counts()"
   ]
  },
  {
   "cell_type": "code",
   "execution_count": 60,
   "id": "6f9225da",
   "metadata": {},
   "outputs": [],
   "source": [
    "top10meatbrands = df[df.category==\"Eggs, Meat & Fish\"].brand.value_counts().head(10)"
   ]
  },
  {
   "cell_type": "code",
   "execution_count": 61,
   "id": "1c86e660",
   "metadata": {},
   "outputs": [
    {
     "data": {
      "text/plain": [
       "brand\n",
       "Fresho              71\n",
       "Fresho Signature    31\n",
       "La Carne            28\n",
       "Golden Prize        19\n",
       "Meatzza             19\n",
       "Gadre               14\n",
       "H.S. Dry Fish       13\n",
       "Seastar             12\n",
       "Quickee'S           11\n",
       "Ifb                 10\n",
       "Name: count, dtype: int64"
      ]
     },
     "execution_count": 61,
     "metadata": {},
     "output_type": "execute_result"
    }
   ],
   "source": [
    "top10meatbrands"
   ]
  },
  {
   "cell_type": "code",
   "execution_count": 62,
   "id": "ee5e5c70",
   "metadata": {},
   "outputs": [
    {
     "data": {
      "image/png": "[encoded data removed]",
      "text/plain": [
       "<Figure size 640x480 with 1 Axes>"
      ]
     },
     "metadata": {},
     "output_type": "display_data"
    }
   ],
   "source": [
    "plt.pie(top10meatbrands, labels=top10meatbrands.index,autopct=\"%1.1f%%\")\n",
    "plt.show()"
   ]
  },
  {
   "cell_type": "markdown",
   "id": "15dae0fe",
   "metadata": {},
   "source": [
    "## Analyzing the second least stocked category i.e Fruits & Vegetables."
   ]
  },
  {
   "cell_type": "code",
   "execution_count": 63,
   "id": "f73c6cfa",
   "metadata": {},
   "outputs": [
    {
     "data": {
      "text/html": [
       "<div>\n",
       "<style scoped>\n",
       "    .dataframe tbody tr th:only-of-type {\n",
       "        vertical-align: middle;\n",
       "    }\n",
       "\n",
       "    .dataframe tbody tr th {\n",
       "        vertical-align: top;\n",
       "    }\n",
       "\n",
       "    .dataframe thead th {\n",
       "        text-align: right;\n",
       "    }\n",
       "</style>\n",
       "<table border=\"1\" class=\"dataframe\">\n",
       "  <thead>\n",
       "    <tr style=\"text-align: right;\">\n",
       "      <th></th>\n",
       "      <th>product</th>\n",
       "      <th>category</th>\n",
       "      <th>sub_category</th>\n",
       "      <th>brand</th>\n",
       "      <th>sale_price</th>\n",
       "      <th>market_price</th>\n",
       "      <th>type</th>\n",
       "      <th>rating</th>\n",
       "      <th>description</th>\n",
       "    </tr>\n",
       "  </thead>\n",
       "  <tbody>\n",
       "    <tr>\n",
       "      <th>89</th>\n",
       "      <td>Sweet Corn Kernels - Chipotle</td>\n",
       "      <td>Fruits &amp; Vegetables</td>\n",
       "      <td>Cuts &amp; Sprouts</td>\n",
       "      <td>Supa Corn</td>\n",
       "      <td>55.0</td>\n",
       "      <td>55.00</td>\n",
       "      <td>Cut &amp; Peeled Veggies</td>\n",
       "      <td>4.1</td>\n",
       "      <td>Ready To Eat Sweet Corn kernels, packaged usin...</td>\n",
       "    </tr>\n",
       "    <tr>\n",
       "      <th>115</th>\n",
       "      <td>Sapota - Organically Grown</td>\n",
       "      <td>Fruits &amp; Vegetables</td>\n",
       "      <td>Fresh Fruits</td>\n",
       "      <td>Fresho</td>\n",
       "      <td>35.0</td>\n",
       "      <td>43.75</td>\n",
       "      <td>Organic Fruits</td>\n",
       "      <td>4.1</td>\n",
       "      <td>Brown skinned sapotas are smooth to grainy tex...</td>\n",
       "    </tr>\n",
       "    <tr>\n",
       "      <th>122</th>\n",
       "      <td>Cabbage - Red</td>\n",
       "      <td>Fruits &amp; Vegetables</td>\n",
       "      <td>Fresh Vegetables</td>\n",
       "      <td>Fresho</td>\n",
       "      <td>23.0</td>\n",
       "      <td>28.75</td>\n",
       "      <td>Cabbage &amp; Cauliflower</td>\n",
       "      <td>4.1</td>\n",
       "      <td>It is round, wrapped in purplish red leaf laye...</td>\n",
       "    </tr>\n",
       "    <tr>\n",
       "      <th>131</th>\n",
       "      <td>Banana - Red</td>\n",
       "      <td>Fruits &amp; Vegetables</td>\n",
       "      <td>Fresh Fruits</td>\n",
       "      <td>Fresho</td>\n",
       "      <td>39.0</td>\n",
       "      <td>48.75</td>\n",
       "      <td>Banana, Sapota &amp; Papaya</td>\n",
       "      <td>4.1</td>\n",
       "      <td>Standing apart from the common varieties of ye...</td>\n",
       "    </tr>\n",
       "    <tr>\n",
       "      <th>132</th>\n",
       "      <td>Chilli - Bajji, Mild</td>\n",
       "      <td>Fruits &amp; Vegetables</td>\n",
       "      <td>Herbs &amp; Seasonings</td>\n",
       "      <td>Fresho</td>\n",
       "      <td>14.0</td>\n",
       "      <td>17.50</td>\n",
       "      <td>Lemon, Ginger &amp; Garlic</td>\n",
       "      <td>4.1</td>\n",
       "      <td>Fresho is our brand of fresh fruits and vegeta...</td>\n",
       "    </tr>\n",
       "    <tr>\n",
       "      <th>...</th>\n",
       "      <td>...</td>\n",
       "      <td>...</td>\n",
       "      <td>...</td>\n",
       "      <td>...</td>\n",
       "      <td>...</td>\n",
       "      <td>...</td>\n",
       "      <td>...</td>\n",
       "      <td>...</td>\n",
       "      <td>...</td>\n",
       "    </tr>\n",
       "    <tr>\n",
       "      <th>27310</th>\n",
       "      <td>Leeks</td>\n",
       "      <td>Fruits &amp; Vegetables</td>\n",
       "      <td>Exotic Fruits &amp; Veggies</td>\n",
       "      <td>Fresho</td>\n",
       "      <td>16.0</td>\n",
       "      <td>20.00</td>\n",
       "      <td>Exotic Vegetables</td>\n",
       "      <td>4.1</td>\n",
       "      <td>Leek is a long bundle of leaf sheaths with a m...</td>\n",
       "    </tr>\n",
       "    <tr>\n",
       "      <th>27319</th>\n",
       "      <td>Tapioca - Organically Grown</td>\n",
       "      <td>Fruits &amp; Vegetables</td>\n",
       "      <td>Organic Fruits &amp; Vegetables</td>\n",
       "      <td>Fresho</td>\n",
       "      <td>18.0</td>\n",
       "      <td>22.50</td>\n",
       "      <td>Organic Vegetables</td>\n",
       "      <td>4.1</td>\n",
       "      <td>It Is Organically Grown And Handpicked From Fa...</td>\n",
       "    </tr>\n",
       "    <tr>\n",
       "      <th>27377</th>\n",
       "      <td>Fried Rice Mix</td>\n",
       "      <td>Fruits &amp; Vegetables</td>\n",
       "      <td>Cuts &amp; Sprouts</td>\n",
       "      <td>Fresho</td>\n",
       "      <td>45.0</td>\n",
       "      <td>56.25</td>\n",
       "      <td>Recipe Packs</td>\n",
       "      <td>4.1</td>\n",
       "      <td>This pack of cut Beans, Carrots, Sweetcorn, Ba...</td>\n",
       "    </tr>\n",
       "    <tr>\n",
       "      <th>27487</th>\n",
       "      <td>Broad Beans - Diced</td>\n",
       "      <td>Fruits &amp; Vegetables</td>\n",
       "      <td>Fresh Vegetables</td>\n",
       "      <td>Fresho</td>\n",
       "      <td>33.0</td>\n",
       "      <td>41.25</td>\n",
       "      <td>Cut &amp; Peeled Veggies</td>\n",
       "      <td>4.1</td>\n",
       "      <td>Fresh broad beans have a delicious earthy flav...</td>\n",
       "    </tr>\n",
       "    <tr>\n",
       "      <th>27491</th>\n",
       "      <td>Green Cabbage - Grated</td>\n",
       "      <td>Fruits &amp; Vegetables</td>\n",
       "      <td>Fresh Vegetables</td>\n",
       "      <td>Fresho</td>\n",
       "      <td>28.0</td>\n",
       "      <td>35.00</td>\n",
       "      <td>Cut &amp; Peeled Veggies</td>\n",
       "      <td>4.1</td>\n",
       "      <td>Sweet and grassy, grated green cabbage is a wo...</td>\n",
       "    </tr>\n",
       "  </tbody>\n",
       "</table>\n",
       "<p>557 rows × 9 columns</p>\n",
       "</div>"
      ],
      "text/plain": [
       "                             product             category  \\\n",
       "89     Sweet Corn Kernels - Chipotle  Fruits & Vegetables   \n",
       "115       Sapota - Organically Grown  Fruits & Vegetables   \n",
       "122                    Cabbage - Red  Fruits & Vegetables   \n",
       "131                     Banana - Red  Fruits & Vegetables   \n",
       "132             Chilli - Bajji, Mild  Fruits & Vegetables   \n",
       "...                              ...                  ...   \n",
       "27310                          Leeks  Fruits & Vegetables   \n",
       "27319    Tapioca - Organically Grown  Fruits & Vegetables   \n",
       "27377                 Fried Rice Mix  Fruits & Vegetables   \n",
       "27487            Broad Beans - Diced  Fruits & Vegetables   \n",
       "27491         Green Cabbage - Grated  Fruits & Vegetables   \n",
       "\n",
       "                      sub_category      brand  sale_price  market_price  \\\n",
       "89                  Cuts & Sprouts  Supa Corn        55.0         55.00   \n",
       "115                   Fresh Fruits     Fresho        35.0         43.75   \n",
       "122               Fresh Vegetables     Fresho        23.0         28.75   \n",
       "131                   Fresh Fruits     Fresho        39.0         48.75   \n",
       "132             Herbs & Seasonings     Fresho        14.0         17.50   \n",
       "...                            ...        ...         ...           ...   \n",
       "27310      Exotic Fruits & Veggies     Fresho        16.0         20.00   \n",
       "27319  Organic Fruits & Vegetables     Fresho        18.0         22.50   \n",
       "27377               Cuts & Sprouts     Fresho        45.0         56.25   \n",
       "27487             Fresh Vegetables     Fresho        33.0         41.25   \n",
       "27491             Fresh Vegetables     Fresho        28.0         35.00   \n",
       "\n",
       "                          type  rating  \\\n",
       "89        Cut & Peeled Veggies     4.1   \n",
       "115             Organic Fruits     4.1   \n",
       "122      Cabbage & Cauliflower     4.1   \n",
       "131    Banana, Sapota & Papaya     4.1   \n",
       "132     Lemon, Ginger & Garlic     4.1   \n",
       "...                        ...     ...   \n",
       "27310        Exotic Vegetables     4.1   \n",
       "27319       Organic Vegetables     4.1   \n",
       "27377             Recipe Packs     4.1   \n",
       "27487     Cut & Peeled Veggies     4.1   \n",
       "27491     Cut & Peeled Veggies     4.1   \n",
       "\n",
       "                                             description  \n",
       "89     Ready To Eat Sweet Corn kernels, packaged usin...  \n",
       "115    Brown skinned sapotas are smooth to grainy tex...  \n",
       "122    It is round, wrapped in purplish red leaf laye...  \n",
       "131    Standing apart from the common varieties of ye...  \n",
       "132    Fresho is our brand of fresh fruits and vegeta...  \n",
       "...                                                  ...  \n",
       "27310  Leek is a long bundle of leaf sheaths with a m...  \n",
       "27319  It Is Organically Grown And Handpicked From Fa...  \n",
       "27377  This pack of cut Beans, Carrots, Sweetcorn, Ba...  \n",
       "27487  Fresh broad beans have a delicious earthy flav...  \n",
       "27491  Sweet and grassy, grated green cabbage is a wo...  \n",
       "\n",
       "[557 rows x 9 columns]"
      ]
     },
     "execution_count": 63,
     "metadata": {},
     "output_type": "execute_result"
    }
   ],
   "source": [
    "df[df.category==\"Fruits & Vegetables\"]"
   ]
  },
  {
   "cell_type": "code",
   "execution_count": 64,
   "id": "a189ec39",
   "metadata": {},
   "outputs": [
    {
     "data": {
      "text/plain": [
       "sub_category\n",
       "Fresh Vegetables               168\n",
       "Fresh Fruits                   124\n",
       "Cuts & Sprouts                  95\n",
       "Exotic Fruits & Veggies         70\n",
       "Organic Fruits & Vegetables     68\n",
       "Herbs & Seasonings              24\n",
       "Flower Bouquets, Bunches         8\n",
       "Name: count, dtype: int64"
      ]
     },
     "execution_count": 64,
     "metadata": {},
     "output_type": "execute_result"
    }
   ],
   "source": [
    "df[df.category==\"Fruits & Vegetables\"].sub_category.value_counts()"
   ]
  },
  {
   "cell_type": "code",
   "execution_count": 65,
   "id": "fa232ac1",
   "metadata": {},
   "outputs": [
    {
     "data": {
      "text/plain": [
       "<Axes: ylabel='sub_category'>"
      ]
     },
     "execution_count": 65,
     "metadata": {},
     "output_type": "execute_result"
    },
    {
     "data": {
      "image/png": "[encoded data removed]",
      "text/plain": [
       "<Figure size 640x480 with 1 Axes>"
      ]
     },
     "metadata": {},
     "output_type": "display_data"
    }
   ],
   "source": [
    "df[df.category==\"Fruits & Vegetables\"].sub_category.value_counts().plot(kind='barh')"
   ]
  },
  {
   "cell_type": "code",
   "execution_count": 66,
   "id": "c2416cb0",
   "metadata": {},
   "outputs": [
    {
     "data": {
      "image/png": "[encoded data removed]",
      "text/plain": [
       "<Figure size 640x480 with 1 Axes>"
      ]
     },
     "metadata": {},
     "output_type": "display_data"
    }
   ],
   "source": [
    "plt.pie(df[df.category==\"Fruits & Vegetables\"].sub_category.value_counts(),\n",
    "        labels=df[df.category==\"Fruits & Vegetables\"].sub_category.value_counts().index,autopct=\"%1.1f%%\")\n",
    "plt.show()"
   ]
  },
  {
   "cell_type": "code",
   "execution_count": 67,
   "id": "66a59832",
   "metadata": {
    "scrolled": true
   },
   "outputs": [
    {
     "data": {
      "text/plain": [
       "brand\n",
       "Fresho        544\n",
       "Supa Corn       6\n",
       "Tadaa           5\n",
       "bb Combo        1\n",
       "RoseBazaar      1\n",
       "Name: count, dtype: int64"
      ]
     },
     "execution_count": 67,
     "metadata": {},
     "output_type": "execute_result"
    }
   ],
   "source": [
    "df[df.category==\"Fruits & Vegetables\"].brand.value_counts()"
   ]
  },
  {
   "cell_type": "code",
   "execution_count": 68,
   "id": "d83a7d41",
   "metadata": {},
   "outputs": [
    {
     "data": {
      "text/plain": [
       "<Axes: xlabel='count', ylabel='brand'>"
      ]
     },
     "execution_count": 68,
     "metadata": {},
     "output_type": "execute_result"
    },
    {
     "data": {
      "image/png": "[encoded data removed]",
      "text/plain": [
       "<Figure size 640x480 with 1 Axes>"
      ]
     },
     "metadata": {},
     "output_type": "display_data"
    }
   ],
   "source": [
    "sns.countplot(y=df[df.category==\"Fruits & Vegetables\"].brand)"
   ]
  },
  {
   "cell_type": "markdown",
   "id": "cf694254",
   "metadata": {},
   "source": [
    "## Data Visualizations based on Category and Ratings Columns."
   ]
  },
  {
   "cell_type": "code",
   "execution_count": 89,
   "id": "02d921a4",
   "metadata": {},
   "outputs": [],
   "source": [
    "category_ratings = df.groupby('category')['rating'].mean().round(2).sort_values(ascending=False)"
   ]
  },
  {
   "cell_type": "code",
   "execution_count": 90,
   "id": "83899a03",
   "metadata": {},
   "outputs": [
    {
     "data": {
      "text/plain": [
       "category\n",
       "Eggs, Meat & Fish           4.10\n",
       "Fruits & Vegetables         4.10\n",
       "Beverages                   4.09\n",
       "Foodgrains, Oil & Masala    4.07\n",
       "Baby Care                   4.04\n",
       "Gourmet & World Food        4.04\n",
       "Snacks & Branded Foods      4.00\n",
       "Cleaning & Household        3.99\n",
       "Beauty & Hygiene            3.98\n",
       "Bakery, Cakes & Dairy       3.95\n",
       "Kitchen, Garden & Pets      3.84\n",
       "Name: rating, dtype: float64"
      ]
     },
     "execution_count": 90,
     "metadata": {},
     "output_type": "execute_result"
    }
   ],
   "source": [
    "category_ratings"
   ]
  },
  {
   "cell_type": "code",
   "execution_count": 91,
   "id": "f5b93ec9",
   "metadata": {},
   "outputs": [
    {
     "data": {
      "text/plain": [
       "<Axes: ylabel='category'>"
      ]
     },
     "execution_count": 91,
     "metadata": {},
     "output_type": "execute_result"
    },
    {
     "data": {
      "image/png": "[encoded data removed]",
      "text/plain": [
       "<Figure size 640x480 with 1 Axes>"
      ]
     },
     "metadata": {},
     "output_type": "display_data"
    }
   ],
   "source": [
    "sns.barplot(x=category_ratings.values,y=category_ratings.index)"
   ]
  },
  {
   "cell_type": "code",
   "execution_count": 92,
   "id": "16152f79",
   "metadata": {},
   "outputs": [
    {
     "data": {
      "image/png": "[encoded data removed]",
      "text/plain": [
       "<Figure size 640x480 with 1 Axes>"
      ]
     },
     "metadata": {},
     "output_type": "display_data"
    }
   ],
   "source": [
    "plt.pie(x=category_ratings.values,labels=category_ratings.index,autopct='%1.1f%%')\n",
    "plt.show()"
   ]
  },
  {
   "cell_type": "markdown",
   "id": "8ec8b463",
   "metadata": {},
   "source": [
    "## Data Visualization based on sub_category and Rating Columns."
   ]
  },
  {
   "cell_type": "code",
   "execution_count": 80,
   "id": "54b3283d",
   "metadata": {},
   "outputs": [],
   "source": [
    "sub_cat_ratings = df.groupby('sub_category')['rating'].mean().round(2).sort_values(ascending=False).head(10)"
   ]
  },
  {
   "cell_type": "code",
   "execution_count": 81,
   "id": "5f45c685",
   "metadata": {},
   "outputs": [
    {
     "data": {
      "text/plain": [
       "sub_category\n",
       "Detergents & Dishwash       4.23\n",
       "Water                       4.17\n",
       "Baby Food & Formula         4.17\n",
       "Oils & Vinegar              4.17\n",
       "Biscuits & Cookies          4.16\n",
       "Energy & Soft Drinks        4.16\n",
       "Edible Oils & Ghee          4.14\n",
       "Health Drink, Supplement    4.13\n",
       "Chocolates & Candies        4.12\n",
       "Salt, Sugar & Jaggery       4.12\n",
       "Name: rating, dtype: float64"
      ]
     },
     "execution_count": 81,
     "metadata": {},
     "output_type": "execute_result"
    }
   ],
   "source": [
    "sub_cat_ratings"
   ]
  },
  {
   "cell_type": "code",
   "execution_count": 82,
   "id": "9a2ffcad",
   "metadata": {},
   "outputs": [
    {
     "data": {
      "image/png": "[encoded data removed]",
      "text/plain": [
       "<Figure size 640x480 with 1 Axes>"
      ]
     },
     "metadata": {},
     "output_type": "display_data"
    }
   ],
   "source": [
    "plt.pie(x=sub_cat_ratings.values,labels=sub_cat_ratings.index,autopct='%1.1f%%')\n",
    "plt.show()"
   ]
  },
  {
   "cell_type": "code",
   "execution_count": 83,
   "id": "5e100bf9",
   "metadata": {},
   "outputs": [
    {
     "data": {
      "text/plain": [
       "<Axes: ylabel='sub_category'>"
      ]
     },
     "execution_count": 83,
     "metadata": {},
     "output_type": "execute_result"
    },
    {
     "data": {
      "image/png": "[encoded data removed]",
      "text/plain": [
       "<Figure size 640x480 with 1 Axes>"
      ]
     },
     "metadata": {},
     "output_type": "display_data"
    }
   ],
   "source": [
    "sns.barplot(x=sub_cat_ratings.values,y=sub_cat_ratings.index)"
   ]
  },
  {
   "cell_type": "markdown",
   "id": "a10a0e40",
   "metadata": {},
   "source": [
    "## Data Visualization based on Brands and Rating Columns."
   ]
  },
  {
   "cell_type": "code",
   "execution_count": 84,
   "id": "cad692f9",
   "metadata": {},
   "outputs": [],
   "source": [
    "brand_ratings = df.groupby('brand')['rating'].mean().round(2).sort_values(ascending=False).head(10)"
   ]
  },
  {
   "cell_type": "code",
   "execution_count": 85,
   "id": "68aef02b",
   "metadata": {},
   "outputs": [
    {
     "data": {
      "text/plain": [
       "brand\n",
       "Naagin         5.0\n",
       "Depend         5.0\n",
       "Coronation     5.0\n",
       "Creme 21       5.0\n",
       "Amulya         5.0\n",
       "Nice           5.0\n",
       "DIVING DUCK    5.0\n",
       "Trents         5.0\n",
       "Muscleblaze    5.0\n",
       "Laser          5.0\n",
       "Name: rating, dtype: float64"
      ]
     },
     "execution_count": 85,
     "metadata": {},
     "output_type": "execute_result"
    }
   ],
   "source": [
    "brand_ratings"
   ]
  },
  {
   "cell_type": "code",
   "execution_count": 86,
   "id": "cd401baf",
   "metadata": {},
   "outputs": [
    {
     "data": {
      "image/png": "[encoded data removed]",
      "text/plain": [
       "<Figure size 640x480 with 1 Axes>"
      ]
     },
     "metadata": {},
     "output_type": "display_data"
    }
   ],
   "source": [
    "plt.pie(x=brand_ratings.values,labels=brand_ratings.index,autopct='%1.1f%%')\n",
    "plt.show()"
   ]
  },
  {
   "cell_type": "code",
   "execution_count": 87,
   "id": "2554e593",
   "metadata": {},
   "outputs": [
    {
     "data": {
      "text/plain": [
       "<Axes: ylabel='brand'>"
      ]
     },
     "execution_count": 87,
     "metadata": {},
     "output_type": "execute_result"
    },
    {
     "data": {
      "image/png": "[encoded data removed]",
      "text/plain": [
       "<Figure size 640x480 with 1 Axes>"
      ]
     },
     "metadata": {},
     "output_type": "display_data"
    }
   ],
   "source": [
    "sns.barplot(x=brand_ratings.values,y=brand_ratings.index)"
   ]
  },
  {
   "cell_type": "code",
   "execution_count": null,
   "id": "0dc48ee3",
   "metadata": {},
   "outputs": [],
   "source": []
  }
 ],
 "metadata": {
  "kernelspec": {
   "display_name": "Python 3 (ipykernel)",
   "language": "python",
   "name": "python3"
  },
  "language_info": {
   "codemirror_mode": {
    "name": "ipython",
    "version": 3
   },
   "file_extension": ".py",
   "mimetype": "text/x-python",
   "name": "python",
   "nbconvert_exporter": "python",
   "pygments_lexer": "ipython3",
   "version": "3.11.5"
  }
 },
 "nbformat": 4,
 "nbformat_minor": 5
}
